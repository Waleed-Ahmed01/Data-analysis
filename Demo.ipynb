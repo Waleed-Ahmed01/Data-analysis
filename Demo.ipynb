{
 "cells": [
  {
   "cell_type": "code",
   "execution_count": 1,
   "id": "63745e4e",
   "metadata": {},
   "outputs": [],
   "source": [
    "import warnings\n",
    "warnings.filterwarnings('ignore')\n",
    "\n",
    "import ipywidgets as widgets\n",
    "from IPython.display import display, clear_output"
   ]
  },
  {
   "cell_type": "code",
   "execution_count": 2,
   "id": "c80f06e0",
   "metadata": {},
   "outputs": [
    {
     "name": "stderr",
     "output_type": "stream",
     "text": [
      "Enabling notebook extension jupyter-js-widgets/extension...\n",
      "      - Validating: ok\n",
      "Enabling: voila\n",
      "- Writing config: C:\\Users\\WALEED AHMED\\anaaconda\\envs\\axleandolio\\etc\\jupyter\n",
      "    - Validating...\n",
      "      voila 0.2.10 ok\n"
     ]
    }
   ],
   "source": [
    "!jupyter nbextension enable --py widgetsnbextension --sys-prefix\n",
    "!jupyter serverextension enable voila --sys-prefix"
   ]
  },
  {
   "cell_type": "code",
   "execution_count": null,
   "id": "2d1677d7",
   "metadata": {},
   "outputs": [],
   "source": [
    "! pip install mysql-connector-python"
   ]
  },
  {
   "cell_type": "code",
   "execution_count": null,
   "id": "44e53791",
   "metadata": {},
   "outputs": [],
   "source": [
    "! pip install mysql-connector-python"
   ]
  },
  {
   "cell_type": "code",
   "execution_count": null,
   "id": "fdebd064",
   "metadata": {},
   "outputs": [],
   "source": [
    "import mysql.connector\n",
    "from mysql.connector import Error\n",
    "\n",
    "import mysql.connector\n",
    "\n",
    "mydb = mysql.connector.connect(\n",
    "  host=\"localhost\",\n",
    "  user=\"root\",\n",
    "  password=\"waleedahmed\",\n",
    "  database=\"ezcom_client_demo\"\n",
    ")"
   ]
  },
  {
   "cell_type": "code",
   "execution_count": null,
   "id": "94e52999",
   "metadata": {},
   "outputs": [],
   "source": [
    "!pip install pandas"
   ]
  },
  {
   "cell_type": "code",
   "execution_count": null,
   "id": "b0d45f69",
   "metadata": {},
   "outputs": [],
   "source": [
    "import pandas as pd\n",
    "\n",
    "cur = mydb.cursor()\n",
    "sql_query = \"SELECT * FROM warehouse_stock_list\"\n",
    "cur.execute(sql_query)\n",
    "df= pd.DataFrame(data=cur.fetchall(),columns=['id','warehouse_id','sku','available','stock_in_transit','stock_in_pending','days_left_in oos','added_at','updated_at'])\n",
    "df.head()\n"
   ]
  },
  {
   "cell_type": "code",
   "execution_count": null,
   "id": "639710bb",
   "metadata": {},
   "outputs": [],
   "source": [
    "df['updated_at']=pd.to_datetime(df['updated_at'])\n"
   ]
  },
  {
   "cell_type": "code",
   "execution_count": null,
   "id": "5646eef4",
   "metadata": {},
   "outputs": [],
   "source": [
    "df['last_updated_year']=df['updated_at'].dt.year\n",
    "df['month']=df['updated_at'].dt.month"
   ]
  },
  {
   "cell_type": "code",
   "execution_count": null,
   "id": "52204133",
   "metadata": {},
   "outputs": [],
   "source": [
    "df['last_updated_year'].head()"
   ]
  },
  {
   "cell_type": "code",
   "execution_count": null,
   "id": "ff7da0b8",
   "metadata": {},
   "outputs": [],
   "source": [
    "newdf=df[['sku','available','last_updated_year','month']]"
   ]
  },
  {
   "cell_type": "code",
   "execution_count": null,
   "id": "fda6cb05",
   "metadata": {},
   "outputs": [],
   "source": [
    "stocks_zero_in_2020=newdf[(newdf['available']=='0') & (newdf['last_updated_year']==2020)]\n",
    "stocks_zero_in_2020.groupby(['sku','month'])['available'].count()"
   ]
  },
  {
   "cell_type": "code",
   "execution_count": null,
   "id": "a3f14ce7",
   "metadata": {},
   "outputs": [],
   "source": [
    "sku_stock_zero_in_year_2020=stocks_zero_in_2020.groupby(['sku','month'])['available'].count()"
   ]
  },
  {
   "cell_type": "code",
   "execution_count": null,
   "id": "3d40eba6",
   "metadata": {},
   "outputs": [],
   "source": [
    "ofs_count=pd.DataFrame(sku_stock_zero_in_year_2020)\n",
    "ofs_count.rename(columns={'available':'out_of_stock'},inplace=True)\n",
    "ofs_count.head(50)"
   ]
  },
  {
   "cell_type": "code",
   "execution_count": null,
   "id": "0e264aa6",
   "metadata": {},
   "outputs": [],
   "source": [
    "newdf[(newdf['available']=='0') & (newdf['last_updated_year']==2021)]"
   ]
  },
  {
   "cell_type": "code",
   "execution_count": null,
   "id": "4aa70c3a",
   "metadata": {},
   "outputs": [],
   "source": []
  },
  {
   "cell_type": "code",
   "execution_count": null,
   "id": "de9ec3c8",
   "metadata": {},
   "outputs": [],
   "source": [
    "sales= \"SELECT item_sku,item_status FROM order_items\"\n",
    "cur.execute(sales)\n",
    "df_sales = pd.DataFrame(cur.fetchall())\n",
    "df_sales.head()"
   ]
  },
  {
   "cell_type": "code",
   "execution_count": null,
   "id": "fbbacc66",
   "metadata": {},
   "outputs": [],
   "source": [
    "mycursor = mydb.cursor()\n",
    "\n",
    "mycursor.execute(\"SELECT * FROM stocks_report \")\n",
    "\n",
    "myresult = mycursor.fetchall()\n",
    "\n",
    "for x in myresult:\n",
    "  print(x)"
   ]
  },
  {
   "cell_type": "code",
   "execution_count": null,
   "id": "f372299c",
   "metadata": {},
   "outputs": [],
   "source": [
    "mycursor = mydb.cursor()\n",
    "\n",
    "mycursor.execute(\"SHOW TABLES\")\n",
    "\n",
    "for x in mycursor:\n",
    "  print(x)\n"
   ]
  },
  {
   "cell_type": "code",
   "execution_count": null,
   "id": "5e0201f3",
   "metadata": {},
   "outputs": [],
   "source": [
    "# Image Widget\n",
    "\n",
    "file = open(\"grandma.jpg\", \"rb\")\n",
    "image = file.read()\n",
    "\n",
    "image_headline = widgets.Image(\n",
    "                    value=image,\n",
    "                    format='jpg',\n",
    "                    width='300'\n",
    "                )\n",
    "\n",
    "label_headline = widgets.Label(\n",
    "                    value='Photo by CDC on Unsplash',\n",
    "                    style={'description_width': 'initial'}\n",
    "                )\n",
    "\n",
    "vbox_headline = widgets.VBox([image_headline, label_headline])"
   ]
  },
  {
   "cell_type": "code",
   "execution_count": null,
   "id": "2c92bfd4",
   "metadata": {},
   "outputs": [],
   "source": [
    "# grandson/granddaughter\n",
    "\n",
    "grand = widgets.ToggleButtons(\n",
    "            options=['grandson', 'granddaughter']\n",
    "        )"
   ]
  },
  {
   "cell_type": "code",
   "execution_count": null,
   "id": "67226279",
   "metadata": {},
   "outputs": [],
   "source": [
    "# name\n",
    "\n",
    "name = widgets.Text(placeholder='Your name here')"
   ]
  },
  {
   "cell_type": "code",
   "execution_count": null,
   "id": "f6031782",
   "metadata": {},
   "outputs": [],
   "source": [
    "date = widgets.DatePicker(description='Pick a Date')"
   ]
  },
  {
   "cell_type": "code",
   "execution_count": null,
   "id": "7eee54d3",
   "metadata": {},
   "outputs": [],
   "source": [
    "# number of friends\n",
    "\n",
    "friends = widgets.IntSlider(\n",
    "            value=3, # default value\n",
    "            min=0, \n",
    "            max=10,\n",
    "            step=1,\n",
    "            style={'description_width': 'initial', 'handle_color': '#16a085'} \n",
    "        )"
   ]
  },
  {
   "cell_type": "code",
   "execution_count": null,
   "id": "84d4a9c7",
   "metadata": {},
   "outputs": [],
   "source": [
    "# button send\n",
    "\n",
    "button_send = widgets.Button(\n",
    "                description='Send to grandma',\n",
    "                tooltip='Send',\n",
    "                style={'description_width': 'initial'}\n",
    "            )\n",
    "\n",
    "output = widgets.Output()\n",
    "\n",
    "def on_button_clicked(event):\n",
    "    with output:\n",
    "        clear_output()\n",
    "        print(\"Sent message: \")\n",
    "        print(f\"Dear Grandma! This is your favourite {grand.value}, {name.value}.\")\n",
    "        print(f\"I would love to come over on {date.value} for dinner, if that's okay for you!\")\n",
    "        print(f\"Also, if you don't mind, I'll bring along {friends.value} hungry ghosts for your delicious food!\")\n",
    "\n",
    "button_send.on_click(on_button_clicked)\n",
    "\n",
    "vbox_result = widgets.VBox([button_send, output])"
   ]
  },
  {
   "cell_type": "code",
   "execution_count": null,
   "id": "d64208b3",
   "metadata": {},
   "outputs": [],
   "source": [
    "# stacked right hand side\n",
    "\n",
    "text_0 = widgets.HTML(value=\"<h1>Dear Grandma!</h1>\")\n",
    "text_1 = widgets.HTML(value=\"<h2>This is your favourite</h2>\")\n",
    "text_2= widgets.HTML(value=\"<h2>I would love to come over on </h2>\")\n",
    "text_3= widgets.HTML(value=\"<h2>for dinner, if that's okay for you!</h2>\")\n",
    "text_4= widgets.HTML(value=\"<h2>Also, if you don't mind, I'll bring along </h2>\")\n",
    "text_5= widgets.HTML(value=\"<h2>hungry ghosts for dinner, if that's okay for you!</h2>\")\n",
    "\n",
    "vbox_text = widgets.VBox([text_0, text_1, grand, name, text_2, date, text_3, text_4, friends, text_5, vbox_result])"
   ]
  },
  {
   "cell_type": "code",
   "execution_count": null,
   "id": "7a6bfbcb",
   "metadata": {},
   "outputs": [],
   "source": [
    "page = widgets.HBox([vbox_headline, vbox_text])\n",
    "display(page)"
   ]
  },
  {
   "cell_type": "code",
   "execution_count": null,
   "id": "b3be4443",
   "metadata": {},
   "outputs": [],
   "source": [
    "!pip install ipywidgets"
   ]
  },
  {
   "cell_type": "code",
   "execution_count": null,
   "id": "76820f30",
   "metadata": {},
   "outputs": [],
   "source": []
  }
 ],
 "metadata": {
  "kernelspec": {
   "display_name": "Python 3",
   "language": "python",
   "name": "python3"
  },
  "language_info": {
   "codemirror_mode": {
    "name": "ipython",
    "version": 3
   },
   "file_extension": ".py",
   "mimetype": "text/x-python",
   "name": "python",
   "nbconvert_exporter": "python",
   "pygments_lexer": "ipython3",
   "version": "3.8.10"
  }
 },
 "nbformat": 4,
 "nbformat_minor": 5
}
