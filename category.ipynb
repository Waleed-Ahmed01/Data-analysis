{
 "cells": [
  {
   "cell_type": "code",
   "execution_count": 19,
   "id": "7f16b4e7",
   "metadata": {},
   "outputs": [],
   "source": [
    "import pandas as pd"
   ]
  },
  {
   "cell_type": "code",
   "execution_count": 20,
   "id": "6ea9bc41",
   "metadata": {},
   "outputs": [],
   "source": [
    "import mysql.connector\n",
    "from mysql.connector import Error\n",
    "\n",
    "import mysql.connector\n",
    "\n",
    "mydb = mysql.connector.connect(\n",
    "  host=\"localhost\",\n",
    "  user=\"root\",\n",
    "  password=\"waleedahmed\",\n",
    "  database=\"us_boxing\"\n",
    ")"
   ]
  },
  {
   "cell_type": "code",
   "execution_count": 52,
   "id": "e7e9e275",
   "metadata": {},
   "outputs": [
    {
     "data": {
      "text/html": [
       "<div>\n",
       "<style scoped>\n",
       "    .dataframe tbody tr th:only-of-type {\n",
       "        vertical-align: middle;\n",
       "    }\n",
       "\n",
       "    .dataframe tbody tr th {\n",
       "        vertical-align: top;\n",
       "    }\n",
       "\n",
       "    .dataframe thead th {\n",
       "        text-align: right;\n",
       "    }\n",
       "</style>\n",
       "<table border=\"1\" class=\"dataframe\">\n",
       "  <thead>\n",
       "    <tr style=\"text-align: right;\">\n",
       "      <th></th>\n",
       "      <th>date</th>\n",
       "      <th>sku_id</th>\n",
       "      <th>status</th>\n",
       "      <th>sub_total</th>\n",
       "      <th>category_id</th>\n",
       "      <th>category_name</th>\n",
       "    </tr>\n",
       "  </thead>\n",
       "  <tbody>\n",
       "    <tr>\n",
       "      <th>0</th>\n",
       "      <td>2019-10-09 09:18:40</td>\n",
       "      <td>5058</td>\n",
       "      <td>canceled</td>\n",
       "      <td>49.00</td>\n",
       "      <td>1</td>\n",
       "      <td>Gloves</td>\n",
       "    </tr>\n",
       "    <tr>\n",
       "      <th>1</th>\n",
       "      <td>2019-12-23 07:37:08</td>\n",
       "      <td>5181</td>\n",
       "      <td>canceled</td>\n",
       "      <td>3.00</td>\n",
       "      <td>1</td>\n",
       "      <td>Gloves</td>\n",
       "    </tr>\n",
       "    <tr>\n",
       "      <th>2</th>\n",
       "      <td>2019-10-04 23:14:55</td>\n",
       "      <td>5056</td>\n",
       "      <td>shipped</td>\n",
       "      <td>149.95</td>\n",
       "      <td>1</td>\n",
       "      <td>Gloves</td>\n",
       "    </tr>\n",
       "    <tr>\n",
       "      <th>3</th>\n",
       "      <td>2019-10-04 05:15:23</td>\n",
       "      <td>5133</td>\n",
       "      <td>shipped</td>\n",
       "      <td>119.95</td>\n",
       "      <td>1</td>\n",
       "      <td>Gloves</td>\n",
       "    </tr>\n",
       "    <tr>\n",
       "      <th>4</th>\n",
       "      <td>2019-09-30 22:05:26</td>\n",
       "      <td>5696</td>\n",
       "      <td>shipped</td>\n",
       "      <td>169.95</td>\n",
       "      <td>1</td>\n",
       "      <td>Gloves</td>\n",
       "    </tr>\n",
       "    <tr>\n",
       "      <th>5</th>\n",
       "      <td>2019-09-30 22:05:26</td>\n",
       "      <td>5125</td>\n",
       "      <td>shipped</td>\n",
       "      <td>59.95</td>\n",
       "      <td>20</td>\n",
       "      <td>Head Guards</td>\n",
       "    </tr>\n",
       "    <tr>\n",
       "      <th>6</th>\n",
       "      <td>2019-09-30 03:23:15</td>\n",
       "      <td>5124</td>\n",
       "      <td>shipped</td>\n",
       "      <td>59.95</td>\n",
       "      <td>20</td>\n",
       "      <td>Head Guards</td>\n",
       "    </tr>\n",
       "    <tr>\n",
       "      <th>7</th>\n",
       "      <td>2019-09-29 22:22:39</td>\n",
       "      <td>5041</td>\n",
       "      <td>shipped</td>\n",
       "      <td>169.95</td>\n",
       "      <td>1</td>\n",
       "      <td>Gloves</td>\n",
       "    </tr>\n",
       "    <tr>\n",
       "      <th>8</th>\n",
       "      <td>2019-09-29 22:22:39</td>\n",
       "      <td>5133</td>\n",
       "      <td>shipped</td>\n",
       "      <td>119.95</td>\n",
       "      <td>1</td>\n",
       "      <td>Gloves</td>\n",
       "    </tr>\n",
       "    <tr>\n",
       "      <th>9</th>\n",
       "      <td>2019-09-29 22:22:39</td>\n",
       "      <td>5124</td>\n",
       "      <td>shipped</td>\n",
       "      <td>59.95</td>\n",
       "      <td>20</td>\n",
       "      <td>Head Guards</td>\n",
       "    </tr>\n",
       "    <tr>\n",
       "      <th>10</th>\n",
       "      <td>2019-09-28 13:34:04</td>\n",
       "      <td>5053</td>\n",
       "      <td>shipped</td>\n",
       "      <td>179.95</td>\n",
       "      <td>1</td>\n",
       "      <td>Gloves</td>\n",
       "    </tr>\n",
       "    <tr>\n",
       "      <th>11</th>\n",
       "      <td>2019-09-24 19:58:36</td>\n",
       "      <td>5109</td>\n",
       "      <td>shipped</td>\n",
       "      <td>32.00</td>\n",
       "      <td>1</td>\n",
       "      <td>Gloves</td>\n",
       "    </tr>\n",
       "    <tr>\n",
       "      <th>12</th>\n",
       "      <td>2019-09-24 19:58:36</td>\n",
       "      <td>5172</td>\n",
       "      <td>shipped</td>\n",
       "      <td>9.60</td>\n",
       "      <td>1</td>\n",
       "      <td>Gloves</td>\n",
       "    </tr>\n",
       "    <tr>\n",
       "      <th>13</th>\n",
       "      <td>2019-09-24 19:58:36</td>\n",
       "      <td>5090</td>\n",
       "      <td>shipped</td>\n",
       "      <td>17.00</td>\n",
       "      <td>1</td>\n",
       "      <td>Gloves</td>\n",
       "    </tr>\n",
       "    <tr>\n",
       "      <th>14</th>\n",
       "      <td>2019-09-24 17:15:49</td>\n",
       "      <td>5117</td>\n",
       "      <td>shipped</td>\n",
       "      <td>179.90</td>\n",
       "      <td>1</td>\n",
       "      <td>Gloves</td>\n",
       "    </tr>\n",
       "    <tr>\n",
       "      <th>15</th>\n",
       "      <td>2019-09-21 18:49:29</td>\n",
       "      <td>5045</td>\n",
       "      <td>shipped</td>\n",
       "      <td>119.95</td>\n",
       "      <td>1</td>\n",
       "      <td>Gloves</td>\n",
       "    </tr>\n",
       "    <tr>\n",
       "      <th>16</th>\n",
       "      <td>2019-09-21 18:49:29</td>\n",
       "      <td>5043</td>\n",
       "      <td>shipped</td>\n",
       "      <td>169.95</td>\n",
       "      <td>1</td>\n",
       "      <td>Gloves</td>\n",
       "    </tr>\n",
       "    <tr>\n",
       "      <th>17</th>\n",
       "      <td>2019-09-19 19:00:55</td>\n",
       "      <td>5056</td>\n",
       "      <td>shipped</td>\n",
       "      <td>149.95</td>\n",
       "      <td>1</td>\n",
       "      <td>Gloves</td>\n",
       "    </tr>\n",
       "    <tr>\n",
       "      <th>18</th>\n",
       "      <td>2019-09-20 16:47:29</td>\n",
       "      <td>5172</td>\n",
       "      <td>shipped</td>\n",
       "      <td>0.96</td>\n",
       "      <td>1</td>\n",
       "      <td>Gloves</td>\n",
       "    </tr>\n",
       "    <tr>\n",
       "      <th>19</th>\n",
       "      <td>2019-09-20 16:47:29</td>\n",
       "      <td>5181</td>\n",
       "      <td>shipped</td>\n",
       "      <td>3.00</td>\n",
       "      <td>1</td>\n",
       "      <td>Gloves</td>\n",
       "    </tr>\n",
       "    <tr>\n",
       "      <th>20</th>\n",
       "      <td>2019-09-20 16:47:29</td>\n",
       "      <td>5090</td>\n",
       "      <td>shipped</td>\n",
       "      <td>17.00</td>\n",
       "      <td>1</td>\n",
       "      <td>Gloves</td>\n",
       "    </tr>\n",
       "    <tr>\n",
       "      <th>21</th>\n",
       "      <td>2019-09-20 16:47:29</td>\n",
       "      <td>5119</td>\n",
       "      <td>shipped</td>\n",
       "      <td>40.00</td>\n",
       "      <td>1</td>\n",
       "      <td>Gloves</td>\n",
       "    </tr>\n",
       "    <tr>\n",
       "      <th>22</th>\n",
       "      <td>2019-09-18 19:06:02</td>\n",
       "      <td>5088</td>\n",
       "      <td>shipped</td>\n",
       "      <td>17.00</td>\n",
       "      <td>1</td>\n",
       "      <td>Gloves</td>\n",
       "    </tr>\n",
       "    <tr>\n",
       "      <th>23</th>\n",
       "      <td>2019-09-18 19:06:02</td>\n",
       "      <td>5089</td>\n",
       "      <td>shipped</td>\n",
       "      <td>17.00</td>\n",
       "      <td>1</td>\n",
       "      <td>Gloves</td>\n",
       "    </tr>\n",
       "    <tr>\n",
       "      <th>24</th>\n",
       "      <td>2019-09-18 19:06:02</td>\n",
       "      <td>5109</td>\n",
       "      <td>shipped</td>\n",
       "      <td>16.00</td>\n",
       "      <td>1</td>\n",
       "      <td>Gloves</td>\n",
       "    </tr>\n",
       "    <tr>\n",
       "      <th>25</th>\n",
       "      <td>2019-09-18 19:06:02</td>\n",
       "      <td>5110</td>\n",
       "      <td>shipped</td>\n",
       "      <td>16.00</td>\n",
       "      <td>1</td>\n",
       "      <td>Gloves</td>\n",
       "    </tr>\n",
       "    <tr>\n",
       "      <th>26</th>\n",
       "      <td>2019-09-18 19:06:02</td>\n",
       "      <td>5168</td>\n",
       "      <td>shipped</td>\n",
       "      <td>3.92</td>\n",
       "      <td>1</td>\n",
       "      <td>Gloves</td>\n",
       "    </tr>\n",
       "    <tr>\n",
       "      <th>27</th>\n",
       "      <td>2019-09-18 19:06:02</td>\n",
       "      <td>5172</td>\n",
       "      <td>shipped</td>\n",
       "      <td>2.88</td>\n",
       "      <td>1</td>\n",
       "      <td>Gloves</td>\n",
       "    </tr>\n",
       "    <tr>\n",
       "      <th>28</th>\n",
       "      <td>2019-09-18 19:06:02</td>\n",
       "      <td>5119</td>\n",
       "      <td>shipped</td>\n",
       "      <td>40.00</td>\n",
       "      <td>1</td>\n",
       "      <td>Gloves</td>\n",
       "    </tr>\n",
       "    <tr>\n",
       "      <th>29</th>\n",
       "      <td>2019-09-15 18:34:36</td>\n",
       "      <td>5050</td>\n",
       "      <td>shipped</td>\n",
       "      <td>179.95</td>\n",
       "      <td>1</td>\n",
       "      <td>Gloves</td>\n",
       "    </tr>\n",
       "    <tr>\n",
       "      <th>30</th>\n",
       "      <td>2019-09-12 22:56:08</td>\n",
       "      <td>5142</td>\n",
       "      <td>shipped</td>\n",
       "      <td>129.95</td>\n",
       "      <td>1</td>\n",
       "      <td>Gloves</td>\n",
       "    </tr>\n",
       "    <tr>\n",
       "      <th>31</th>\n",
       "      <td>2019-09-10 13:24:43</td>\n",
       "      <td>5052</td>\n",
       "      <td>shipped</td>\n",
       "      <td>179.95</td>\n",
       "      <td>1</td>\n",
       "      <td>Gloves</td>\n",
       "    </tr>\n",
       "    <tr>\n",
       "      <th>32</th>\n",
       "      <td>2019-12-18 04:39:15</td>\n",
       "      <td>5055</td>\n",
       "      <td>shipped</td>\n",
       "      <td>149.95</td>\n",
       "      <td>1</td>\n",
       "      <td>Gloves</td>\n",
       "    </tr>\n",
       "    <tr>\n",
       "      <th>33</th>\n",
       "      <td>2019-12-18 04:39:15</td>\n",
       "      <td>5052</td>\n",
       "      <td>shipped</td>\n",
       "      <td>179.95</td>\n",
       "      <td>1</td>\n",
       "      <td>Gloves</td>\n",
       "    </tr>\n",
       "    <tr>\n",
       "      <th>34</th>\n",
       "      <td>2019-09-08 23:06:19</td>\n",
       "      <td>5053</td>\n",
       "      <td>shipped</td>\n",
       "      <td>179.95</td>\n",
       "      <td>1</td>\n",
       "      <td>Gloves</td>\n",
       "    </tr>\n",
       "    <tr>\n",
       "      <th>35</th>\n",
       "      <td>2019-09-07 20:48:19</td>\n",
       "      <td>5055</td>\n",
       "      <td>shipped</td>\n",
       "      <td>149.95</td>\n",
       "      <td>1</td>\n",
       "      <td>Gloves</td>\n",
       "    </tr>\n",
       "    <tr>\n",
       "      <th>36</th>\n",
       "      <td>2020-04-08 00:34:02</td>\n",
       "      <td>5062</td>\n",
       "      <td>shipped</td>\n",
       "      <td>39.95</td>\n",
       "      <td>1</td>\n",
       "      <td>Gloves</td>\n",
       "    </tr>\n",
       "    <tr>\n",
       "      <th>37</th>\n",
       "      <td>2019-09-07 18:49:42</td>\n",
       "      <td>5062</td>\n",
       "      <td>shipped</td>\n",
       "      <td>39.95</td>\n",
       "      <td>1</td>\n",
       "      <td>Gloves</td>\n",
       "    </tr>\n",
       "    <tr>\n",
       "      <th>38</th>\n",
       "      <td>2019-09-07 18:49:36</td>\n",
       "      <td>5053</td>\n",
       "      <td>pending</td>\n",
       "      <td>179.95</td>\n",
       "      <td>1</td>\n",
       "      <td>Gloves</td>\n",
       "    </tr>\n",
       "    <tr>\n",
       "      <th>39</th>\n",
       "      <td>2019-09-05 22:16:20</td>\n",
       "      <td>5100</td>\n",
       "      <td>shipped</td>\n",
       "      <td>79.95</td>\n",
       "      <td>1</td>\n",
       "      <td>Gloves</td>\n",
       "    </tr>\n",
       "    <tr>\n",
       "      <th>40</th>\n",
       "      <td>2019-09-05 22:16:20</td>\n",
       "      <td>5166</td>\n",
       "      <td>shipped</td>\n",
       "      <td>5.95</td>\n",
       "      <td>1</td>\n",
       "      <td>Gloves</td>\n",
       "    </tr>\n",
       "    <tr>\n",
       "      <th>41</th>\n",
       "      <td>2019-09-04 09:38:25</td>\n",
       "      <td>5060</td>\n",
       "      <td>canceled</td>\n",
       "      <td>21.97</td>\n",
       "      <td>1</td>\n",
       "      <td>Gloves</td>\n",
       "    </tr>\n",
       "    <tr>\n",
       "      <th>42</th>\n",
       "      <td>2019-09-01 07:53:59</td>\n",
       "      <td>5056</td>\n",
       "      <td>shipped</td>\n",
       "      <td>149.95</td>\n",
       "      <td>1</td>\n",
       "      <td>Gloves</td>\n",
       "    </tr>\n",
       "    <tr>\n",
       "      <th>43</th>\n",
       "      <td>2019-08-30 04:44:06</td>\n",
       "      <td>5041</td>\n",
       "      <td>shipped</td>\n",
       "      <td>169.95</td>\n",
       "      <td>1</td>\n",
       "      <td>Gloves</td>\n",
       "    </tr>\n",
       "    <tr>\n",
       "      <th>44</th>\n",
       "      <td>2020-02-24 02:22:28</td>\n",
       "      <td>5046</td>\n",
       "      <td>canceled</td>\n",
       "      <td>119.95</td>\n",
       "      <td>1</td>\n",
       "      <td>Gloves</td>\n",
       "    </tr>\n",
       "    <tr>\n",
       "      <th>45</th>\n",
       "      <td>2020-02-24 02:22:28</td>\n",
       "      <td>5181</td>\n",
       "      <td>canceled</td>\n",
       "      <td>42.02</td>\n",
       "      <td>1</td>\n",
       "      <td>Gloves</td>\n",
       "    </tr>\n",
       "    <tr>\n",
       "      <th>46</th>\n",
       "      <td>2020-02-24 02:22:28</td>\n",
       "      <td>5082</td>\n",
       "      <td>canceled</td>\n",
       "      <td>29.95</td>\n",
       "      <td>1</td>\n",
       "      <td>Gloves</td>\n",
       "    </tr>\n",
       "    <tr>\n",
       "      <th>47</th>\n",
       "      <td>2020-02-24 02:22:28</td>\n",
       "      <td>5073</td>\n",
       "      <td>canceled</td>\n",
       "      <td>49.95</td>\n",
       "      <td>1</td>\n",
       "      <td>Gloves</td>\n",
       "    </tr>\n",
       "    <tr>\n",
       "      <th>48</th>\n",
       "      <td>2020-02-24 02:22:28</td>\n",
       "      <td>5092</td>\n",
       "      <td>canceled</td>\n",
       "      <td>39.95</td>\n",
       "      <td>1</td>\n",
       "      <td>Gloves</td>\n",
       "    </tr>\n",
       "    <tr>\n",
       "      <th>49</th>\n",
       "      <td>2020-02-24 02:22:28</td>\n",
       "      <td>5064</td>\n",
       "      <td>canceled</td>\n",
       "      <td>39.95</td>\n",
       "      <td>1</td>\n",
       "      <td>Gloves</td>\n",
       "    </tr>\n",
       "  </tbody>\n",
       "</table>\n",
       "</div>"
      ],
      "text/plain": [
       "                  date  sku_id    status sub_total  category_id category_name\n",
       "0  2019-10-09 09:18:40    5058  canceled     49.00            1        Gloves\n",
       "1  2019-12-23 07:37:08    5181  canceled      3.00            1        Gloves\n",
       "2  2019-10-04 23:14:55    5056   shipped    149.95            1        Gloves\n",
       "3  2019-10-04 05:15:23    5133   shipped    119.95            1        Gloves\n",
       "4  2019-09-30 22:05:26    5696   shipped    169.95            1        Gloves\n",
       "5  2019-09-30 22:05:26    5125   shipped     59.95           20   Head Guards\n",
       "6  2019-09-30 03:23:15    5124   shipped     59.95           20   Head Guards\n",
       "7  2019-09-29 22:22:39    5041   shipped    169.95            1        Gloves\n",
       "8  2019-09-29 22:22:39    5133   shipped    119.95            1        Gloves\n",
       "9  2019-09-29 22:22:39    5124   shipped     59.95           20   Head Guards\n",
       "10 2019-09-28 13:34:04    5053   shipped    179.95            1        Gloves\n",
       "11 2019-09-24 19:58:36    5109   shipped     32.00            1        Gloves\n",
       "12 2019-09-24 19:58:36    5172   shipped      9.60            1        Gloves\n",
       "13 2019-09-24 19:58:36    5090   shipped     17.00            1        Gloves\n",
       "14 2019-09-24 17:15:49    5117   shipped    179.90            1        Gloves\n",
       "15 2019-09-21 18:49:29    5045   shipped    119.95            1        Gloves\n",
       "16 2019-09-21 18:49:29    5043   shipped    169.95            1        Gloves\n",
       "17 2019-09-19 19:00:55    5056   shipped    149.95            1        Gloves\n",
       "18 2019-09-20 16:47:29    5172   shipped      0.96            1        Gloves\n",
       "19 2019-09-20 16:47:29    5181   shipped      3.00            1        Gloves\n",
       "20 2019-09-20 16:47:29    5090   shipped     17.00            1        Gloves\n",
       "21 2019-09-20 16:47:29    5119   shipped     40.00            1        Gloves\n",
       "22 2019-09-18 19:06:02    5088   shipped     17.00            1        Gloves\n",
       "23 2019-09-18 19:06:02    5089   shipped     17.00            1        Gloves\n",
       "24 2019-09-18 19:06:02    5109   shipped     16.00            1        Gloves\n",
       "25 2019-09-18 19:06:02    5110   shipped     16.00            1        Gloves\n",
       "26 2019-09-18 19:06:02    5168   shipped      3.92            1        Gloves\n",
       "27 2019-09-18 19:06:02    5172   shipped      2.88            1        Gloves\n",
       "28 2019-09-18 19:06:02    5119   shipped     40.00            1        Gloves\n",
       "29 2019-09-15 18:34:36    5050   shipped    179.95            1        Gloves\n",
       "30 2019-09-12 22:56:08    5142   shipped    129.95            1        Gloves\n",
       "31 2019-09-10 13:24:43    5052   shipped    179.95            1        Gloves\n",
       "32 2019-12-18 04:39:15    5055   shipped    149.95            1        Gloves\n",
       "33 2019-12-18 04:39:15    5052   shipped    179.95            1        Gloves\n",
       "34 2019-09-08 23:06:19    5053   shipped    179.95            1        Gloves\n",
       "35 2019-09-07 20:48:19    5055   shipped    149.95            1        Gloves\n",
       "36 2020-04-08 00:34:02    5062   shipped     39.95            1        Gloves\n",
       "37 2019-09-07 18:49:42    5062   shipped     39.95            1        Gloves\n",
       "38 2019-09-07 18:49:36    5053   pending    179.95            1        Gloves\n",
       "39 2019-09-05 22:16:20    5100   shipped     79.95            1        Gloves\n",
       "40 2019-09-05 22:16:20    5166   shipped      5.95            1        Gloves\n",
       "41 2019-09-04 09:38:25    5060  canceled     21.97            1        Gloves\n",
       "42 2019-09-01 07:53:59    5056   shipped    149.95            1        Gloves\n",
       "43 2019-08-30 04:44:06    5041   shipped    169.95            1        Gloves\n",
       "44 2020-02-24 02:22:28    5046  canceled    119.95            1        Gloves\n",
       "45 2020-02-24 02:22:28    5181  canceled     42.02            1        Gloves\n",
       "46 2020-02-24 02:22:28    5082  canceled     29.95            1        Gloves\n",
       "47 2020-02-24 02:22:28    5073  canceled     49.95            1        Gloves\n",
       "48 2020-02-24 02:22:28    5092  canceled     39.95            1        Gloves\n",
       "49 2020-02-24 02:22:28    5064  canceled     39.95            1        Gloves"
      ]
     },
     "execution_count": 52,
     "metadata": {},
     "output_type": "execute_result"
    }
   ],
   "source": [
    "cur = mydb.cursor()\n",
    "cat =\"SELECT oi.item_updated_at,oi.sku_id,oi.item_status,oi.sub_total,pc.cat_id,c.name FROM order_items oi INNER JOIN product_categories pc ON pc.product_id=oi.sku_id INNER JOIN category c ON pc.cat_id=c.id\"\n",
    "cur.execute(cat)\n",
    "df_cat= pd.DataFrame(data=cur.fetchall(),columns=['date','sku_id','status','sub_total','category_id','category_name'])\n",
    "df_cat.head(50)"
   ]
  },
  {
   "cell_type": "code",
   "execution_count": 54,
   "id": "6bd6b1e3",
   "metadata": {},
   "outputs": [],
   "source": [
    "df_cat.drop(df_cat[df_cat['status']=='canceled'].index, inplace = True)"
   ]
  },
  {
   "cell_type": "code",
   "execution_count": 55,
   "id": "fabb3b35",
   "metadata": {},
   "outputs": [],
   "source": [
    "df_cat['year']=df_cat['date'].dt.year\n",
    "df_cat['month']=df_cat['date'].dt.month\n",
    "df_cat['day']=df_cat['date'].dt.day"
   ]
  },
  {
   "cell_type": "code",
   "execution_count": 56,
   "id": "ec6e22e9",
   "metadata": {},
   "outputs": [],
   "source": [
    "twenty_twenty=df_cat.query('year==2020')"
   ]
  },
  {
   "cell_type": "code",
   "execution_count": 57,
   "id": "eff09fbc",
   "metadata": {},
   "outputs": [
    {
     "data": {
      "text/plain": [
       "Gloves         4993\n",
       "Hand Wraps       12\n",
       "Head Guards       4\n",
       "Head Gear         3\n",
       "Focus Mitts       2\n",
       "Name: category_name, dtype: int64"
      ]
     },
     "execution_count": 57,
     "metadata": {},
     "output_type": "execute_result"
    }
   ],
   "source": [
    "twenty_twenty['category_name'].value_counts()"
   ]
  },
  {
   "cell_type": "code",
   "execution_count": 58,
   "id": "eb9e9c61",
   "metadata": {},
   "outputs": [
    {
     "name": "stderr",
     "output_type": "stream",
     "text": [
      "<ipython-input-58-3bf7699fa811>:10: SettingWithCopyWarning: \n",
      "A value is trying to be set on a copy of a slice from a DataFrame.\n",
      "Try using .loc[row_indexer,col_indexer] = value instead\n",
      "\n",
      "See the caveats in the documentation: https://pandas.pydata.org/pandas-docs/stable/user_guide/indexing.html#returning-a-view-versus-a-copy\n",
      "  twenty_twenty['quarter'] = np.select(conditions_category, values_cat)\n"
     ]
    }
   ],
   "source": [
    "import seaborn as sns\n",
    "\n",
    "conditions_category = [\n",
    "    (twenty_twenty['month']>=1) & (twenty_twenty['month']<= 3),\n",
    "    (twenty_twenty['month']>=4) & (twenty_twenty['month']<= 6),\n",
    "    (twenty_twenty['month']>=7) & (twenty_twenty['month']<= 9),\n",
    "    (twenty_twenty['month']>=10) & (twenty_twenty['month']<= 12)]\n",
    "values_cat = ['Q1', 'Q2', 'Q3', 'Q4']\n",
    "import numpy as np\n",
    "twenty_twenty['quarter'] = np.select(conditions_category, values_cat)"
   ]
  },
  {
   "cell_type": "code",
   "execution_count": 59,
   "id": "8561df3b",
   "metadata": {},
   "outputs": [
    {
     "name": "stderr",
     "output_type": "stream",
     "text": [
      "<ipython-input-59-7ebdbd96cd4a>:5: SettingWithCopyWarning: \n",
      "A value is trying to be set on a copy of a slice from a DataFrame.\n",
      "Try using .loc[row_indexer,col_indexer] = value instead\n",
      "\n",
      "See the caveats in the documentation: https://pandas.pydata.org/pandas-docs/stable/user_guide/indexing.html#returning-a-view-versus-a-copy\n",
      "  twenty_twenty['half_yearly'] = np.select(conditions_2020_halfyearly, values_2020_half_yearly)\n"
     ]
    }
   ],
   "source": [
    "conditions_2020_halfyearly = [\n",
    "    (twenty_twenty['month']>=1) & (twenty_twenty['month'] <= 6),\n",
    "    (twenty_twenty['month'] >=7) & (twenty_twenty['month'] <= 12)]\n",
    "values_2020_half_yearly = ['1st_half', '2nd_half']\n",
    "twenty_twenty['half_yearly'] = np.select(conditions_2020_halfyearly, values_2020_half_yearly)"
   ]
  },
  {
   "cell_type": "code",
   "execution_count": 60,
   "id": "585a8eab",
   "metadata": {},
   "outputs": [],
   "source": [
    "sales_category=twenty_twenty.groupby(['category_name','quarter'])['sub_total'].sum()\n",
    "sales_category=pd.DataFrame(sales_category)\n"
   ]
  },
  {
   "cell_type": "code",
   "execution_count": 61,
   "id": "ae4bb559",
   "metadata": {},
   "outputs": [],
   "source": [
    "sales_category.reset_index(inplace=True)"
   ]
  },
  {
   "cell_type": "code",
   "execution_count": 62,
   "id": "6eb05bf5",
   "metadata": {},
   "outputs": [
    {
     "data": {
      "text/plain": [
       "<seaborn.axisgrid.FacetGrid at 0xdfc391a370>"
      ]
     },
     "execution_count": 62,
     "metadata": {},
     "output_type": "execute_result"
    },
    {
     "data": {
      "image/png": "[encoded data removed]",
      "text/plain": [
       "<Figure size 461.125x360 with 1 Axes>"
      ]
     },
     "metadata": {
      "needs_background": "light"
     },
     "output_type": "display_data"
    }
   ],
   "source": [
    "sns.relplot(\n",
    "    data=sales_category, x=\"quarter\", y=\"sub_total\",hue='category_name',\n",
    "    kind=\"line\"\n",
    ")"
   ]
  },
  {
   "cell_type": "code",
   "execution_count": 63,
   "id": "63171768",
   "metadata": {},
   "outputs": [
    {
     "data": {
      "text/plain": [
       "<seaborn.axisgrid.FacetGrid at 0xdfc572d040>"
      ]
     },
     "execution_count": 63,
     "metadata": {},
     "output_type": "execute_result"
    },
    {
     "data": {
      "image/png": "[encoded data removed]",
      "text/plain": [
       "<Figure size 461.125x360 with 1 Axes>"
      ]
     },
     "metadata": {
      "needs_background": "light"
     },
     "output_type": "display_data"
    }
   ],
   "source": [
    "sns.catplot(x=\"quarter\", y=\"sub_total\",hue='category_name',\n",
    "    kind=\"bar\",data=sales_category\n",
    ")"
   ]
  },
  {
   "cell_type": "code",
   "execution_count": 64,
   "id": "bea510e1",
   "metadata": {},
   "outputs": [],
   "source": [
    "sales_category_half=twenty_twenty.groupby(['category_name','half_yearly'])['sub_total'].sum()\n",
    "sales_category_half=pd.DataFrame(sales_category_half)"
   ]
  },
  {
   "cell_type": "code",
   "execution_count": 65,
   "id": "e43c4c2f",
   "metadata": {},
   "outputs": [
    {
     "data": {
      "text/plain": [
       "<seaborn.axisgrid.FacetGrid at 0xdfc39a8ee0>"
      ]
     },
     "execution_count": 65,
     "metadata": {},
     "output_type": "execute_result"
    },
    {
     "data": {
      "image/png": "[encoded data removed]",
      "text/plain": [
       "<Figure size 461.125x360 with 1 Axes>"
      ]
     },
     "metadata": {
      "needs_background": "light"
     },
     "output_type": "display_data"
    }
   ],
   "source": [
    "sns.relplot(\n",
    "    data=sales_category_half, x=\"half_yearly\", y=\"sub_total\",hue='category_name',\n",
    "    kind=\"line\"\n",
    ")"
   ]
  },
  {
   "cell_type": "code",
   "execution_count": 66,
   "id": "cde522d6",
   "metadata": {},
   "outputs": [],
   "source": [
    "twenty_one=df_cat.query('year==2021')"
   ]
  },
  {
   "cell_type": "code",
   "execution_count": 67,
   "id": "e1906541",
   "metadata": {},
   "outputs": [
    {
     "data": {
      "text/html": [
       "<div>\n",
       "<style scoped>\n",
       "    .dataframe tbody tr th:only-of-type {\n",
       "        vertical-align: middle;\n",
       "    }\n",
       "\n",
       "    .dataframe tbody tr th {\n",
       "        vertical-align: top;\n",
       "    }\n",
       "\n",
       "    .dataframe thead th {\n",
       "        text-align: right;\n",
       "    }\n",
       "</style>\n",
       "<table border=\"1\" class=\"dataframe\">\n",
       "  <thead>\n",
       "    <tr style=\"text-align: right;\">\n",
       "      <th></th>\n",
       "      <th>date</th>\n",
       "      <th>sku_id</th>\n",
       "      <th>status</th>\n",
       "      <th>sub_total</th>\n",
       "      <th>category_id</th>\n",
       "      <th>category_name</th>\n",
       "      <th>year</th>\n",
       "      <th>month</th>\n",
       "      <th>day</th>\n",
       "    </tr>\n",
       "  </thead>\n",
       "  <tbody>\n",
       "    <tr>\n",
       "      <th>4887</th>\n",
       "      <td>2021-01-01 19:56:41</td>\n",
       "      <td>5110</td>\n",
       "      <td>completed</td>\n",
       "      <td>29.95</td>\n",
       "      <td>1</td>\n",
       "      <td>Gloves</td>\n",
       "      <td>2021</td>\n",
       "      <td>1</td>\n",
       "      <td>1</td>\n",
       "    </tr>\n",
       "    <tr>\n",
       "      <th>5377</th>\n",
       "      <td>2021-01-11 10:25:02</td>\n",
       "      <td>5110</td>\n",
       "      <td>completed</td>\n",
       "      <td>89.85</td>\n",
       "      <td>1</td>\n",
       "      <td>Gloves</td>\n",
       "      <td>2021</td>\n",
       "      <td>1</td>\n",
       "      <td>11</td>\n",
       "    </tr>\n",
       "    <tr>\n",
       "      <th>5378</th>\n",
       "      <td>2021-01-11 10:25:02</td>\n",
       "      <td>5926</td>\n",
       "      <td>completed</td>\n",
       "      <td>89.85</td>\n",
       "      <td>1</td>\n",
       "      <td>Gloves</td>\n",
       "      <td>2021</td>\n",
       "      <td>1</td>\n",
       "      <td>11</td>\n",
       "    </tr>\n",
       "    <tr>\n",
       "      <th>5517</th>\n",
       "      <td>2021-01-01 19:55:10</td>\n",
       "      <td>5087</td>\n",
       "      <td>shipped</td>\n",
       "      <td>34.95</td>\n",
       "      <td>1</td>\n",
       "      <td>Gloves</td>\n",
       "      <td>2021</td>\n",
       "      <td>1</td>\n",
       "      <td>1</td>\n",
       "    </tr>\n",
       "    <tr>\n",
       "      <th>5583</th>\n",
       "      <td>2021-01-06 14:49:28</td>\n",
       "      <td>5136</td>\n",
       "      <td>completed</td>\n",
       "      <td>99.99</td>\n",
       "      <td>1</td>\n",
       "      <td>Gloves</td>\n",
       "      <td>2021</td>\n",
       "      <td>1</td>\n",
       "      <td>6</td>\n",
       "    </tr>\n",
       "    <tr>\n",
       "      <th>...</th>\n",
       "      <td>...</td>\n",
       "      <td>...</td>\n",
       "      <td>...</td>\n",
       "      <td>...</td>\n",
       "      <td>...</td>\n",
       "      <td>...</td>\n",
       "      <td>...</td>\n",
       "      <td>...</td>\n",
       "      <td>...</td>\n",
       "    </tr>\n",
       "    <tr>\n",
       "      <th>8496</th>\n",
       "      <td>2021-07-01 01:08:42</td>\n",
       "      <td>5071</td>\n",
       "      <td>pending</td>\n",
       "      <td>39.95</td>\n",
       "      <td>1</td>\n",
       "      <td>Gloves</td>\n",
       "      <td>2021</td>\n",
       "      <td>7</td>\n",
       "      <td>1</td>\n",
       "    </tr>\n",
       "    <tr>\n",
       "      <th>8497</th>\n",
       "      <td>2021-07-01 01:34:53</td>\n",
       "      <td>5150</td>\n",
       "      <td>pending</td>\n",
       "      <td>79.95</td>\n",
       "      <td>1</td>\n",
       "      <td>Gloves</td>\n",
       "      <td>2021</td>\n",
       "      <td>7</td>\n",
       "      <td>1</td>\n",
       "    </tr>\n",
       "    <tr>\n",
       "      <th>8498</th>\n",
       "      <td>2021-07-01 03:34:20</td>\n",
       "      <td>10717</td>\n",
       "      <td>pending</td>\n",
       "      <td>29.99</td>\n",
       "      <td>1</td>\n",
       "      <td>Gloves</td>\n",
       "      <td>2021</td>\n",
       "      <td>7</td>\n",
       "      <td>1</td>\n",
       "    </tr>\n",
       "    <tr>\n",
       "      <th>8499</th>\n",
       "      <td>2021-07-01 04:19:25</td>\n",
       "      <td>10706</td>\n",
       "      <td>pending</td>\n",
       "      <td>22.99</td>\n",
       "      <td>1</td>\n",
       "      <td>Gloves</td>\n",
       "      <td>2021</td>\n",
       "      <td>7</td>\n",
       "      <td>1</td>\n",
       "    </tr>\n",
       "    <tr>\n",
       "      <th>8500</th>\n",
       "      <td>2021-07-01 06:47:25</td>\n",
       "      <td>6448</td>\n",
       "      <td>pending</td>\n",
       "      <td>149.95</td>\n",
       "      <td>1</td>\n",
       "      <td>Gloves</td>\n",
       "      <td>2021</td>\n",
       "      <td>7</td>\n",
       "      <td>1</td>\n",
       "    </tr>\n",
       "  </tbody>\n",
       "</table>\n",
       "<p>2147 rows × 9 columns</p>\n",
       "</div>"
      ],
      "text/plain": [
       "                    date  sku_id     status sub_total  category_id  \\\n",
       "4887 2021-01-01 19:56:41    5110  completed     29.95            1   \n",
       "5377 2021-01-11 10:25:02    5110  completed     89.85            1   \n",
       "5378 2021-01-11 10:25:02    5926  completed     89.85            1   \n",
       "5517 2021-01-01 19:55:10    5087    shipped     34.95            1   \n",
       "5583 2021-01-06 14:49:28    5136  completed     99.99            1   \n",
       "...                  ...     ...        ...       ...          ...   \n",
       "8496 2021-07-01 01:08:42    5071    pending     39.95            1   \n",
       "8497 2021-07-01 01:34:53    5150    pending     79.95            1   \n",
       "8498 2021-07-01 03:34:20   10717    pending     29.99            1   \n",
       "8499 2021-07-01 04:19:25   10706    pending     22.99            1   \n",
       "8500 2021-07-01 06:47:25    6448    pending    149.95            1   \n",
       "\n",
       "     category_name  year  month  day  \n",
       "4887        Gloves  2021      1    1  \n",
       "5377        Gloves  2021      1   11  \n",
       "5378        Gloves  2021      1   11  \n",
       "5517        Gloves  2021      1    1  \n",
       "5583        Gloves  2021      1    6  \n",
       "...            ...   ...    ...  ...  \n",
       "8496        Gloves  2021      7    1  \n",
       "8497        Gloves  2021      7    1  \n",
       "8498        Gloves  2021      7    1  \n",
       "8499        Gloves  2021      7    1  \n",
       "8500        Gloves  2021      7    1  \n",
       "\n",
       "[2147 rows x 9 columns]"
      ]
     },
     "execution_count": 67,
     "metadata": {},
     "output_type": "execute_result"
    }
   ],
   "source": [
    "twenty_one"
   ]
  },
  {
   "cell_type": "code",
   "execution_count": 68,
   "id": "8bcd4646",
   "metadata": {},
   "outputs": [
    {
     "name": "stderr",
     "output_type": "stream",
     "text": [
      "<ipython-input-68-864f53111c28>:10: SettingWithCopyWarning: \n",
      "A value is trying to be set on a copy of a slice from a DataFrame.\n",
      "Try using .loc[row_indexer,col_indexer] = value instead\n",
      "\n",
      "See the caveats in the documentation: https://pandas.pydata.org/pandas-docs/stable/user_guide/indexing.html#returning-a-view-versus-a-copy\n",
      "  twenty_one['quarter'] = np.select(conditions_category_2021, values_cat_2021)\n"
     ]
    }
   ],
   "source": [
    "import seaborn as sns\n",
    "\n",
    "conditions_category_2021 = [\n",
    "    (twenty_one['month']>=1) & (twenty_one['month']<= 3),\n",
    "    (twenty_one['month']>=4) & (twenty_one['month']<= 6),\n",
    "    (twenty_one['month']>=7) & (twenty_one['month']<= 9),\n",
    "    (twenty_one['month']>=10) & (twenty_one['month']<= 12)]\n",
    "values_cat_2021 = ['Q1', 'Q2', 'Q3', 'Q4']\n",
    "import numpy as np\n",
    "twenty_one['quarter'] = np.select(conditions_category_2021, values_cat_2021)"
   ]
  },
  {
   "cell_type": "code",
   "execution_count": 69,
   "id": "b53dd008",
   "metadata": {},
   "outputs": [
    {
     "name": "stderr",
     "output_type": "stream",
     "text": [
      "<ipython-input-69-1d7e8039e965>:5: SettingWithCopyWarning: \n",
      "A value is trying to be set on a copy of a slice from a DataFrame.\n",
      "Try using .loc[row_indexer,col_indexer] = value instead\n",
      "\n",
      "See the caveats in the documentation: https://pandas.pydata.org/pandas-docs/stable/user_guide/indexing.html#returning-a-view-versus-a-copy\n",
      "  twenty_one['half_yearly'] = np.select(conditions_2021_halfyearly, values_2021_half_yearly)\n"
     ]
    }
   ],
   "source": [
    "conditions_2021_halfyearly = [\n",
    "    (twenty_one['month']>=1) & (twenty_one['month'] <= 6),\n",
    "    (twenty_one['month'] >=7) & (twenty_one['month'] <= 12)]\n",
    "values_2021_half_yearly = ['1st_half', '2nd_half']\n",
    "twenty_one['half_yearly'] = np.select(conditions_2021_halfyearly, values_2021_half_yearly)"
   ]
  },
  {
   "cell_type": "code",
   "execution_count": 70,
   "id": "c3c33dfd",
   "metadata": {},
   "outputs": [],
   "source": [
    "sales_category_2021=twenty_one.groupby(['category_name','quarter'])['sub_total'].sum()\n",
    "sales_category_2021=pd.DataFrame(sales_category_2021)\n"
   ]
  },
  {
   "cell_type": "code",
   "execution_count": 71,
   "id": "1e674ddf",
   "metadata": {},
   "outputs": [
    {
     "data": {
      "text/html": [
       "<div>\n",
       "<style scoped>\n",
       "    .dataframe tbody tr th:only-of-type {\n",
       "        vertical-align: middle;\n",
       "    }\n",
       "\n",
       "    .dataframe tbody tr th {\n",
       "        vertical-align: top;\n",
       "    }\n",
       "\n",
       "    .dataframe thead th {\n",
       "        text-align: right;\n",
       "    }\n",
       "</style>\n",
       "<table border=\"1\" class=\"dataframe\">\n",
       "  <thead>\n",
       "    <tr style=\"text-align: right;\">\n",
       "      <th></th>\n",
       "      <th></th>\n",
       "      <th>sub_total</th>\n",
       "    </tr>\n",
       "    <tr>\n",
       "      <th>category_name</th>\n",
       "      <th>quarter</th>\n",
       "      <th></th>\n",
       "    </tr>\n",
       "  </thead>\n",
       "  <tbody>\n",
       "    <tr>\n",
       "      <th rowspan=\"3\" valign=\"top\">Gloves</th>\n",
       "      <th>Q1</th>\n",
       "      <td>24825.18</td>\n",
       "    </tr>\n",
       "    <tr>\n",
       "      <th>Q2</th>\n",
       "      <td>75252.38</td>\n",
       "    </tr>\n",
       "    <tr>\n",
       "      <th>Q3</th>\n",
       "      <td>572.10</td>\n",
       "    </tr>\n",
       "  </tbody>\n",
       "</table>\n",
       "</div>"
      ],
      "text/plain": [
       "                      sub_total\n",
       "category_name quarter          \n",
       "Gloves        Q1       24825.18\n",
       "              Q2       75252.38\n",
       "              Q3         572.10"
      ]
     },
     "execution_count": 71,
     "metadata": {},
     "output_type": "execute_result"
    }
   ],
   "source": [
    "sales_category_2021"
   ]
  },
  {
   "cell_type": "code",
   "execution_count": 72,
   "id": "e9c050cc",
   "metadata": {},
   "outputs": [
    {
     "data": {
      "text/plain": [
       "<seaborn.axisgrid.FacetGrid at 0xdfc52c1550>"
      ]
     },
     "execution_count": 72,
     "metadata": {},
     "output_type": "execute_result"
    },
    {
     "data": {
      "image/png": "[encoded data removed]",
      "text/plain": [
       "<Figure size 445.25x360 with 1 Axes>"
      ]
     },
     "metadata": {
      "needs_background": "light"
     },
     "output_type": "display_data"
    }
   ],
   "source": [
    "sns.relplot(\n",
    "    data=sales_category_2021, x=\"quarter\", y=\"sub_total\",hue='category_name',\n",
    "    kind=\"line\"\n",
    ")"
   ]
  },
  {
   "cell_type": "code",
   "execution_count": 73,
   "id": "4d73f8b3",
   "metadata": {},
   "outputs": [],
   "source": [
    "sales_category_half_2021=twenty_one.groupby(['category_name','half_yearly'])['sub_total'].sum()\n",
    "sales_category_half_2021=pd.DataFrame(sales_category_half_2021)"
   ]
  },
  {
   "cell_type": "code",
   "execution_count": 74,
   "id": "5ebc3c27",
   "metadata": {},
   "outputs": [
    {
     "data": {
      "text/html": [
       "<div>\n",
       "<style scoped>\n",
       "    .dataframe tbody tr th:only-of-type {\n",
       "        vertical-align: middle;\n",
       "    }\n",
       "\n",
       "    .dataframe tbody tr th {\n",
       "        vertical-align: top;\n",
       "    }\n",
       "\n",
       "    .dataframe thead th {\n",
       "        text-align: right;\n",
       "    }\n",
       "</style>\n",
       "<table border=\"1\" class=\"dataframe\">\n",
       "  <thead>\n",
       "    <tr style=\"text-align: right;\">\n",
       "      <th></th>\n",
       "      <th></th>\n",
       "      <th>sub_total</th>\n",
       "    </tr>\n",
       "    <tr>\n",
       "      <th>category_name</th>\n",
       "      <th>half_yearly</th>\n",
       "      <th></th>\n",
       "    </tr>\n",
       "  </thead>\n",
       "  <tbody>\n",
       "    <tr>\n",
       "      <th rowspan=\"2\" valign=\"top\">Gloves</th>\n",
       "      <th>1st_half</th>\n",
       "      <td>100077.56</td>\n",
       "    </tr>\n",
       "    <tr>\n",
       "      <th>2nd_half</th>\n",
       "      <td>572.10</td>\n",
       "    </tr>\n",
       "  </tbody>\n",
       "</table>\n",
       "</div>"
      ],
      "text/plain": [
       "                           sub_total\n",
       "category_name half_yearly           \n",
       "Gloves        1st_half     100077.56\n",
       "              2nd_half        572.10"
      ]
     },
     "execution_count": 74,
     "metadata": {},
     "output_type": "execute_result"
    }
   ],
   "source": [
    "sales_category_half_2021"
   ]
  },
  {
   "cell_type": "code",
   "execution_count": 75,
   "id": "43f6580b",
   "metadata": {},
   "outputs": [
    {
     "data": {
      "text/plain": [
       "<seaborn.axisgrid.FacetGrid at 0xdfc3e898e0>"
      ]
     },
     "execution_count": 75,
     "metadata": {},
     "output_type": "execute_result"
    },
    {
     "data": {
      "image/png": "[encoded data removed]",
      "text/plain": [
       "<Figure size 445.25x360 with 1 Axes>"
      ]
     },
     "metadata": {
      "needs_background": "light"
     },
     "output_type": "display_data"
    }
   ],
   "source": [
    "sns.relplot(\n",
    "    data=sales_category_half_2021, x=\"half_yearly\", y=\"sub_total\",hue='category_name',\n",
    "    kind=\"line\"\n",
    ")"
   ]
  },
  {
   "cell_type": "code",
   "execution_count": 83,
   "id": "c0696f13",
   "metadata": {},
   "outputs": [],
   "source": [
    "twenty_ninteen=df_cat.query('year==2019')"
   ]
  },
  {
   "cell_type": "code",
   "execution_count": 84,
   "id": "13f8dfa0",
   "metadata": {},
   "outputs": [
    {
     "name": "stderr",
     "output_type": "stream",
     "text": [
      "<ipython-input-84-527f5b94737b>:10: SettingWithCopyWarning: \n",
      "A value is trying to be set on a copy of a slice from a DataFrame.\n",
      "Try using .loc[row_indexer,col_indexer] = value instead\n",
      "\n",
      "See the caveats in the documentation: https://pandas.pydata.org/pandas-docs/stable/user_guide/indexing.html#returning-a-view-versus-a-copy\n",
      "  twenty_ninteen['quarter'] = np.select(conditions_category_2019, values_cat_2019)\n"
     ]
    }
   ],
   "source": [
    "import seaborn as sns\n",
    "\n",
    "conditions_category_2019 = [\n",
    "    (twenty_ninteen['month']>=1) & (twenty_ninteen['month']<= 3),\n",
    "    (twenty_ninteen['month']>=4) & (twenty_ninteen['month']<= 6),\n",
    "    (twenty_ninteen['month']>=7) & (twenty_ninteen['month']<= 9),\n",
    "    (twenty_ninteen['month']>=10) & (twenty_ninteen['month']<= 12)]\n",
    "values_cat_2019 = ['Q1', 'Q2', 'Q3', 'Q4']\n",
    "import numpy as np\n",
    "twenty_ninteen['quarter'] = np.select(conditions_category_2019, values_cat_2019)"
   ]
  },
  {
   "cell_type": "code",
   "execution_count": 85,
   "id": "5409371e",
   "metadata": {},
   "outputs": [
    {
     "name": "stderr",
     "output_type": "stream",
     "text": [
      "<ipython-input-85-c9c145c27de5>:5: SettingWithCopyWarning: \n",
      "A value is trying to be set on a copy of a slice from a DataFrame.\n",
      "Try using .loc[row_indexer,col_indexer] = value instead\n",
      "\n",
      "See the caveats in the documentation: https://pandas.pydata.org/pandas-docs/stable/user_guide/indexing.html#returning-a-view-versus-a-copy\n",
      "  twenty_ninteen['half_yearly'] = np.select(conditions_2019_halfyearly, values_2019_half_yearly)\n"
     ]
    }
   ],
   "source": [
    "conditions_2019_halfyearly = [\n",
    "    (twenty_ninteen['month']>=1) & (twenty_ninteen['month'] <= 6),\n",
    "    (twenty_ninteen['month'] >=7) & (twenty_ninteen['month'] <= 12)]\n",
    "values_2019_half_yearly = ['1st_half', '2nd_half']\n",
    "twenty_ninteen['half_yearly'] = np.select(conditions_2019_halfyearly, values_2019_half_yearly)"
   ]
  },
  {
   "cell_type": "code",
   "execution_count": 86,
   "id": "28906eda",
   "metadata": {},
   "outputs": [],
   "source": [
    "sales_category_2019=twenty_ninteen.groupby(['category_name','quarter'])['sub_total'].sum()\n",
    "sales_category_2019=pd.DataFrame(sales_category_2019)"
   ]
  },
  {
   "cell_type": "code",
   "execution_count": 87,
   "id": "cfc248a9",
   "metadata": {},
   "outputs": [
    {
     "data": {
      "text/html": [
       "<div>\n",
       "<style scoped>\n",
       "    .dataframe tbody tr th:only-of-type {\n",
       "        vertical-align: middle;\n",
       "    }\n",
       "\n",
       "    .dataframe tbody tr th {\n",
       "        vertical-align: top;\n",
       "    }\n",
       "\n",
       "    .dataframe thead th {\n",
       "        text-align: right;\n",
       "    }\n",
       "</style>\n",
       "<table border=\"1\" class=\"dataframe\">\n",
       "  <thead>\n",
       "    <tr style=\"text-align: right;\">\n",
       "      <th></th>\n",
       "      <th></th>\n",
       "      <th>sub_total</th>\n",
       "    </tr>\n",
       "    <tr>\n",
       "      <th>category_name</th>\n",
       "      <th>quarter</th>\n",
       "      <th></th>\n",
       "    </tr>\n",
       "  </thead>\n",
       "  <tbody>\n",
       "    <tr>\n",
       "      <th>Bag / Fitness Gloves</th>\n",
       "      <th>Q4</th>\n",
       "      <td>502.57</td>\n",
       "    </tr>\n",
       "    <tr>\n",
       "      <th>Focus Mitts</th>\n",
       "      <th>Q4</th>\n",
       "      <td>99.98</td>\n",
       "    </tr>\n",
       "    <tr>\n",
       "      <th rowspan=\"4\" valign=\"top\">Gloves</th>\n",
       "      <th>Q1</th>\n",
       "      <td>39.99</td>\n",
       "    </tr>\n",
       "    <tr>\n",
       "      <th>Q2</th>\n",
       "      <td>269.97</td>\n",
       "    </tr>\n",
       "    <tr>\n",
       "      <th>Q3</th>\n",
       "      <td>5221.87</td>\n",
       "    </tr>\n",
       "    <tr>\n",
       "      <th>Q4</th>\n",
       "      <td>27317.08</td>\n",
       "    </tr>\n",
       "    <tr>\n",
       "      <th>Hand Wraps</th>\n",
       "      <th>Q4</th>\n",
       "      <td>19.95</td>\n",
       "    </tr>\n",
       "    <tr>\n",
       "      <th>Head Guards</th>\n",
       "      <th>Q3</th>\n",
       "      <td>179.85</td>\n",
       "    </tr>\n",
       "    <tr>\n",
       "      <th>Sparring Gloves</th>\n",
       "      <th>Q4</th>\n",
       "      <td>88.00</td>\n",
       "    </tr>\n",
       "  </tbody>\n",
       "</table>\n",
       "</div>"
      ],
      "text/plain": [
       "                             sub_total\n",
       "category_name        quarter          \n",
       "Bag / Fitness Gloves Q4         502.57\n",
       "Focus Mitts          Q4          99.98\n",
       "Gloves               Q1          39.99\n",
       "                     Q2         269.97\n",
       "                     Q3        5221.87\n",
       "                     Q4       27317.08\n",
       "Hand Wraps           Q4          19.95\n",
       "Head Guards          Q3         179.85\n",
       "Sparring Gloves      Q4          88.00"
      ]
     },
     "execution_count": 87,
     "metadata": {},
     "output_type": "execute_result"
    }
   ],
   "source": [
    "sales_category_2019"
   ]
  },
  {
   "cell_type": "code",
   "execution_count": 88,
   "id": "a7bfb478",
   "metadata": {},
   "outputs": [
    {
     "data": {
      "text/plain": [
       "<seaborn.axisgrid.FacetGrid at 0xdfc3e779d0>"
      ]
     },
     "execution_count": 88,
     "metadata": {},
     "output_type": "execute_result"
    },
    {
     "data": {
      "image/png": "[encoded data removed]",
      "text/plain": [
       "<Figure size 496.75x360 with 1 Axes>"
      ]
     },
     "metadata": {
      "needs_background": "light"
     },
     "output_type": "display_data"
    }
   ],
   "source": [
    "sns.relplot(\n",
    "    data=sales_category_2019, x=\"quarter\", y=\"sub_total\",hue='category_name',\n",
    "    kind=\"line\"\n",
    ")"
   ]
  },
  {
   "cell_type": "code",
   "execution_count": 90,
   "id": "c938e651",
   "metadata": {},
   "outputs": [],
   "source": [
    "sales_category_half_2019=twenty_ninteen.groupby(['category_name','half_yearly'])['sub_total'].sum()\n",
    "sales_category_half_2019=pd.DataFrame(sales_category_half_2019)"
   ]
  },
  {
   "cell_type": "code",
   "execution_count": 91,
   "id": "0467fb67",
   "metadata": {},
   "outputs": [
    {
     "data": {
      "text/plain": [
       "<seaborn.axisgrid.FacetGrid at 0xdfc3bcb550>"
      ]
     },
     "execution_count": 91,
     "metadata": {},
     "output_type": "execute_result"
    },
    {
     "data": {
      "image/png": "[encoded data removed]",
      "text/plain": [
       "<Figure size 496.75x360 with 1 Axes>"
      ]
     },
     "metadata": {
      "needs_background": "light"
     },
     "output_type": "display_data"
    }
   ],
   "source": [
    "sns.relplot(\n",
    "    data=sales_category_half_2019, x=\"half_yearly\", y=\"sub_total\",hue='category_name',\n",
    "    kind=\"line\"\n",
    ")"
   ]
  },
  {
   "cell_type": "code",
   "execution_count": null,
   "id": "0ed6287c",
   "metadata": {},
   "outputs": [],
   "source": []
  }
 ],
 "metadata": {
  "kernelspec": {
   "display_name": "Python 3",
   "language": "python",
   "name": "python3"
  },
  "language_info": {
   "codemirror_mode": {
    "name": "ipython",
    "version": 3
   },
   "file_extension": ".py",
   "mimetype": "text/x-python",
   "name": "python",
   "nbconvert_exporter": "python",
   "pygments_lexer": "ipython3",
   "version": "3.8.10"
  }
 },
 "nbformat": 4,
 "nbformat_minor": 5
}
