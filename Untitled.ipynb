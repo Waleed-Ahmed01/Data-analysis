{
 "cells": [
  {
   "cell_type": "code",
   "execution_count": 3,
   "id": "f25115c8",
   "metadata": {},
   "outputs": [
    {
     "name": "stdout",
     "output_type": "stream",
     "text": [
      "Collecting widgetsnbextension\n",
      "  Downloading widgetsnbextension-3.5.1-py2.py3-none-any.whl (2.2 MB)\n",
      "Requirement already satisfied: notebook>=4.4.1 in c:\\users\\waleed ahmed\\anaaconda\\envs\\axleandolio\\lib\\site-packages (from widgetsnbextension) (6.4.0)\n",
      "Requirement already satisfied: pyzmq>=17 in c:\\users\\waleed ahmed\\anaaconda\\envs\\axleandolio\\lib\\site-packages (from notebook>=4.4.1->widgetsnbextension) (20.0.0)\n",
      "Requirement already satisfied: tornado>=6.1 in c:\\users\\waleed ahmed\\anaaconda\\envs\\axleandolio\\lib\\site-packages (from notebook>=4.4.1->widgetsnbextension) (6.1)\n",
      "Requirement already satisfied: ipykernel in c:\\users\\waleed ahmed\\anaaconda\\envs\\axleandolio\\lib\\site-packages (from notebook>=4.4.1->widgetsnbextension) (5.3.4)\n",
      "Requirement already satisfied: nbconvert in c:\\users\\waleed ahmed\\anaaconda\\envs\\axleandolio\\lib\\site-packages (from notebook>=4.4.1->widgetsnbextension) (6.1.0)\n",
      "Requirement already satisfied: Send2Trash>=1.5.0 in c:\\users\\waleed ahmed\\anaaconda\\envs\\axleandolio\\lib\\site-packages (from notebook>=4.4.1->widgetsnbextension) (1.5.0)\n",
      "Requirement already satisfied: jupyter-client>=5.3.4 in c:\\users\\waleed ahmed\\anaaconda\\envs\\axleandolio\\lib\\site-packages (from notebook>=4.4.1->widgetsnbextension) (6.1.12)\n",
      "Requirement already satisfied: prometheus-client in c:\\users\\waleed ahmed\\anaaconda\\envs\\axleandolio\\lib\\site-packages (from notebook>=4.4.1->widgetsnbextension) (0.11.0)\n",
      "Requirement already satisfied: traitlets>=4.2.1 in c:\\users\\waleed ahmed\\anaaconda\\envs\\axleandolio\\lib\\site-packages (from notebook>=4.4.1->widgetsnbextension) (5.0.5)\n",
      "Requirement already satisfied: ipython-genutils in c:\\users\\waleed ahmed\\anaaconda\\envs\\axleandolio\\lib\\site-packages (from notebook>=4.4.1->widgetsnbextension) (0.2.0)\n",
      "Requirement already satisfied: argon2-cffi in c:\\users\\waleed ahmed\\anaaconda\\envs\\axleandolio\\lib\\site-packages (from notebook>=4.4.1->widgetsnbextension) (20.1.0)\n",
      "Requirement already satisfied: jupyter-core>=4.6.1 in c:\\users\\waleed ahmed\\anaaconda\\envs\\axleandolio\\lib\\site-packages (from notebook>=4.4.1->widgetsnbextension) (4.7.1)\n",
      "Requirement already satisfied: nbformat in c:\\users\\waleed ahmed\\anaaconda\\envs\\axleandolio\\lib\\site-packages (from notebook>=4.4.1->widgetsnbextension) (5.1.3)\n",
      "Requirement already satisfied: terminado>=0.8.3 in c:\\users\\waleed ahmed\\anaaconda\\envs\\axleandolio\\lib\\site-packages (from notebook>=4.4.1->widgetsnbextension) (0.9.4)\n",
      "Requirement already satisfied: jinja2 in c:\\users\\waleed ahmed\\anaaconda\\envs\\axleandolio\\lib\\site-packages (from notebook>=4.4.1->widgetsnbextension) (3.0.1)\n",
      "Requirement already satisfied: python-dateutil>=2.1 in c:\\users\\waleed ahmed\\anaaconda\\envs\\axleandolio\\lib\\site-packages (from jupyter-client>=5.3.4->notebook>=4.4.1->widgetsnbextension) (2.8.1)\n",
      "Requirement already satisfied: pywin32>=1.0 in c:\\users\\waleed ahmed\\anaaconda\\envs\\axleandolio\\lib\\site-packages (from jupyter-core>=4.6.1->notebook>=4.4.1->widgetsnbextension) (227)\n",
      "Requirement already satisfied: six>=1.5 in c:\\users\\waleed ahmed\\anaaconda\\envs\\axleandolio\\lib\\site-packages (from python-dateutil>=2.1->jupyter-client>=5.3.4->notebook>=4.4.1->widgetsnbextension) (1.16.0)\n",
      "Requirement already satisfied: pywinpty>=0.5 in c:\\users\\waleed ahmed\\anaaconda\\envs\\axleandolio\\lib\\site-packages (from terminado>=0.8.3->notebook>=4.4.1->widgetsnbextension) (0.5.7)\n",
      "Requirement already satisfied: cffi>=1.0.0 in c:\\users\\waleed ahmed\\anaaconda\\envs\\axleandolio\\lib\\site-packages (from argon2-cffi->notebook>=4.4.1->widgetsnbextension) (1.14.5)\n",
      "Requirement already satisfied: pycparser in c:\\users\\waleed ahmed\\anaaconda\\envs\\axleandolio\\lib\\site-packages (from cffi>=1.0.0->argon2-cffi->notebook>=4.4.1->widgetsnbextension) (2.20)\n",
      "Requirement already satisfied: ipython>=5.0.0 in c:\\users\\waleed ahmed\\anaaconda\\envs\\axleandolio\\lib\\site-packages (from ipykernel->notebook>=4.4.1->widgetsnbextension) (7.22.0)\n",
      "Requirement already satisfied: backcall in c:\\users\\waleed ahmed\\anaaconda\\envs\\axleandolio\\lib\\site-packages (from ipython>=5.0.0->ipykernel->notebook>=4.4.1->widgetsnbextension) (0.2.0)\n",
      "Requirement already satisfied: jedi>=0.16 in c:\\users\\waleed ahmed\\anaaconda\\envs\\axleandolio\\lib\\site-packages (from ipython>=5.0.0->ipykernel->notebook>=4.4.1->widgetsnbextension) (0.17.0)\n",
      "Requirement already satisfied: setuptools>=18.5 in c:\\users\\waleed ahmed\\anaaconda\\envs\\axleandolio\\lib\\site-packages (from ipython>=5.0.0->ipykernel->notebook>=4.4.1->widgetsnbextension) (52.0.0.post20210125)\n",
      "Requirement already satisfied: prompt-toolkit!=3.0.0,!=3.0.1,<3.1.0,>=2.0.0 in c:\\users\\waleed ahmed\\anaaconda\\envs\\axleandolio\\lib\\site-packages (from ipython>=5.0.0->ipykernel->notebook>=4.4.1->widgetsnbextension) (3.0.17)\n",
      "Requirement already satisfied: decorator in c:\\users\\waleed ahmed\\anaaconda\\envs\\axleandolio\\lib\\site-packages (from ipython>=5.0.0->ipykernel->notebook>=4.4.1->widgetsnbextension) (5.0.9)\n",
      "Requirement already satisfied: pickleshare in c:\\users\\waleed ahmed\\anaaconda\\envs\\axleandolio\\lib\\site-packages (from ipython>=5.0.0->ipykernel->notebook>=4.4.1->widgetsnbextension) (0.7.5)\n",
      "Requirement already satisfied: pygments in c:\\users\\waleed ahmed\\anaaconda\\envs\\axleandolio\\lib\\site-packages (from ipython>=5.0.0->ipykernel->notebook>=4.4.1->widgetsnbextension) (2.9.0)\n",
      "Requirement already satisfied: colorama in c:\\users\\waleed ahmed\\anaaconda\\envs\\axleandolio\\lib\\site-packages (from ipython>=5.0.0->ipykernel->notebook>=4.4.1->widgetsnbextension) (0.4.4)\n",
      "Requirement already satisfied: parso>=0.7.0 in c:\\users\\waleed ahmed\\anaaconda\\envs\\axleandolio\\lib\\site-packages (from jedi>=0.16->ipython>=5.0.0->ipykernel->notebook>=4.4.1->widgetsnbextension) (0.8.2)\n",
      "Requirement already satisfied: wcwidth in c:\\users\\waleed ahmed\\anaaconda\\envs\\axleandolio\\lib\\site-packages (from prompt-toolkit!=3.0.0,!=3.0.1,<3.1.0,>=2.0.0->ipython>=5.0.0->ipykernel->notebook>=4.4.1->widgetsnbextension) (0.2.5)\n",
      "Requirement already satisfied: MarkupSafe>=2.0 in c:\\users\\waleed ahmed\\anaaconda\\envs\\axleandolio\\lib\\site-packages (from jinja2->notebook>=4.4.1->widgetsnbextension) (2.0.1)\n",
      "Requirement already satisfied: testpath in c:\\users\\waleed ahmed\\anaaconda\\envs\\axleandolio\\lib\\site-packages (from nbconvert->notebook>=4.4.1->widgetsnbextension) (0.5.0)\n",
      "Requirement already satisfied: entrypoints>=0.2.2 in c:\\users\\waleed ahmed\\anaaconda\\envs\\axleandolio\\lib\\site-packages (from nbconvert->notebook>=4.4.1->widgetsnbextension) (0.3)\n",
      "Requirement already satisfied: defusedxml in c:\\users\\waleed ahmed\\anaaconda\\envs\\axleandolio\\lib\\site-packages (from nbconvert->notebook>=4.4.1->widgetsnbextension) (0.7.1)\n",
      "Requirement already satisfied: nbclient<0.6.0,>=0.5.0 in c:\\users\\waleed ahmed\\anaaconda\\envs\\axleandolio\\lib\\site-packages (from nbconvert->notebook>=4.4.1->widgetsnbextension) (0.5.3)\n",
      "Requirement already satisfied: jupyterlab-pygments in c:\\users\\waleed ahmed\\anaaconda\\envs\\axleandolio\\lib\\site-packages (from nbconvert->notebook>=4.4.1->widgetsnbextension) (0.1.2)\n",
      "Requirement already satisfied: mistune<2,>=0.8.1 in c:\\users\\waleed ahmed\\anaaconda\\envs\\axleandolio\\lib\\site-packages (from nbconvert->notebook>=4.4.1->widgetsnbextension) (0.8.4)\n",
      "Requirement already satisfied: pandocfilters>=1.4.1 in c:\\users\\waleed ahmed\\anaaconda\\envs\\axleandolio\\lib\\site-packages (from nbconvert->notebook>=4.4.1->widgetsnbextension) (1.4.3)\n",
      "Requirement already satisfied: bleach in c:\\users\\waleed ahmed\\anaaconda\\envs\\axleandolio\\lib\\site-packages (from nbconvert->notebook>=4.4.1->widgetsnbextension) (3.3.0)\n",
      "Requirement already satisfied: async-generator in c:\\users\\waleed ahmed\\anaaconda\\envs\\axleandolio\\lib\\site-packages (from nbclient<0.6.0,>=0.5.0->nbconvert->notebook>=4.4.1->widgetsnbextension) (1.10)\n",
      "Requirement already satisfied: nest-asyncio in c:\\users\\waleed ahmed\\anaaconda\\envs\\axleandolio\\lib\\site-packages (from nbclient<0.6.0,>=0.5.0->nbconvert->notebook>=4.4.1->widgetsnbextension) (1.5.1)\n",
      "Requirement already satisfied: jsonschema!=2.5.0,>=2.4 in c:\\users\\waleed ahmed\\anaaconda\\envs\\axleandolio\\lib\\site-packages (from nbformat->notebook>=4.4.1->widgetsnbextension) (3.2.0)\n",
      "Requirement already satisfied: attrs>=17.4.0 in c:\\users\\waleed ahmed\\anaaconda\\envs\\axleandolio\\lib\\site-packages (from jsonschema!=2.5.0,>=2.4->nbformat->notebook>=4.4.1->widgetsnbextension) (21.2.0)\n",
      "Requirement already satisfied: pyrsistent>=0.14.0 in c:\\users\\waleed ahmed\\anaaconda\\envs\\axleandolio\\lib\\site-packages (from jsonschema!=2.5.0,>=2.4->nbformat->notebook>=4.4.1->widgetsnbextension) (0.17.3)\n",
      "Requirement already satisfied: webencodings in c:\\users\\waleed ahmed\\anaaconda\\envs\\axleandolio\\lib\\site-packages (from bleach->nbconvert->notebook>=4.4.1->widgetsnbextension) (0.5.1)\n",
      "Requirement already satisfied: packaging in c:\\users\\waleed ahmed\\anaaconda\\envs\\axleandolio\\lib\\site-packages (from bleach->nbconvert->notebook>=4.4.1->widgetsnbextension) (20.9)\n",
      "Requirement already satisfied: pyparsing>=2.0.2 in c:\\users\\waleed ahmed\\anaaconda\\envs\\axleandolio\\lib\\site-packages (from packaging->bleach->nbconvert->notebook>=4.4.1->widgetsnbextension) (2.4.7)\n",
      "Installing collected packages: widgetsnbextension\n",
      "Successfully installed widgetsnbextension-3.5.1\n"
     ]
    }
   ],
   "source": [
    "!pip install widgetsnbextension\n"
   ]
  },
  {
   "cell_type": "code",
   "execution_count": 1,
   "id": "5a519ea8",
   "metadata": {},
   "outputs": [
    {
     "name": "stdout",
     "output_type": "stream",
     "text": [
      "Requirement already satisfied: voila in c:\\users\\waleed ahmed\\anaaconda\\envs\\axleandolio\\lib\\site-packages (0.2.10)\n",
      "Requirement already satisfied: nbclient<0.6,>=0.4.0 in c:\\users\\waleed ahmed\\anaaconda\\envs\\axleandolio\\lib\\site-packages (from voila) (0.5.3)\n",
      "Requirement already satisfied: jupyter-server<2.0.0,>=0.3.0 in c:\\users\\waleed ahmed\\anaaconda\\envs\\axleandolio\\lib\\site-packages (from voila) (1.9.0)\n",
      "Requirement already satisfied: nbconvert<7,>=6.0.0 in c:\\users\\waleed ahmed\\anaaconda\\envs\\axleandolio\\lib\\site-packages (from voila) (6.1.0)\n",
      "Requirement already satisfied: jupyter-client<7,>=6.1.3 in c:\\users\\waleed ahmed\\anaaconda\\envs\\axleandolio\\lib\\site-packages (from voila) (6.1.12)\n",
      "Requirement already satisfied: jupyter-core>=4.6.0 in c:\\users\\waleed ahmed\\anaaconda\\envs\\axleandolio\\lib\\site-packages (from jupyter-client<7,>=6.1.3->voila) (4.7.1)\n",
      "Requirement already satisfied: tornado>=4.1 in c:\\users\\waleed ahmed\\anaaconda\\envs\\axleandolio\\lib\\site-packages (from jupyter-client<7,>=6.1.3->voila) (6.1)\n",
      "Requirement already satisfied: pyzmq>=13 in c:\\users\\waleed ahmed\\anaaconda\\envs\\axleandolio\\lib\\site-packages (from jupyter-client<7,>=6.1.3->voila) (20.0.0)\n",
      "Requirement already satisfied: python-dateutil>=2.1 in c:\\users\\waleed ahmed\\anaaconda\\envs\\axleandolio\\lib\\site-packages (from jupyter-client<7,>=6.1.3->voila) (2.8.1)\n",
      "Requirement already satisfied: traitlets in c:\\users\\waleed ahmed\\anaaconda\\envs\\axleandolio\\lib\\site-packages (from jupyter-client<7,>=6.1.3->voila) (5.0.5)\n",
      "Requirement already satisfied: pywin32>=1.0 in c:\\users\\waleed ahmed\\anaaconda\\envs\\axleandolio\\lib\\site-packages (from jupyter-core>=4.6.0->jupyter-client<7,>=6.1.3->voila) (227)\n",
      "Requirement already satisfied: terminado>=0.8.3 in c:\\users\\waleed ahmed\\anaaconda\\envs\\axleandolio\\lib\\site-packages (from jupyter-server<2.0.0,>=0.3.0->voila) (0.9.4)\n",
      "Requirement already satisfied: anyio<4,>=3.1.0 in c:\\users\\waleed ahmed\\anaaconda\\envs\\axleandolio\\lib\\site-packages (from jupyter-server<2.0.0,>=0.3.0->voila) (3.2.1)\n",
      "Requirement already satisfied: Send2Trash in c:\\users\\waleed ahmed\\anaaconda\\envs\\axleandolio\\lib\\site-packages (from jupyter-server<2.0.0,>=0.3.0->voila) (1.5.0)\n",
      "Requirement already satisfied: jinja2 in c:\\users\\waleed ahmed\\anaaconda\\envs\\axleandolio\\lib\\site-packages (from jupyter-server<2.0.0,>=0.3.0->voila) (3.0.1)\n",
      "Requirement already satisfied: argon2-cffi in c:\\users\\waleed ahmed\\anaaconda\\envs\\axleandolio\\lib\\site-packages (from jupyter-server<2.0.0,>=0.3.0->voila) (20.1.0)\n",
      "Requirement already satisfied: prometheus-client in c:\\users\\waleed ahmed\\anaaconda\\envs\\axleandolio\\lib\\site-packages (from jupyter-server<2.0.0,>=0.3.0->voila) (0.11.0)\n",
      "Requirement already satisfied: websocket-client in c:\\users\\waleed ahmed\\anaaconda\\envs\\axleandolio\\lib\\site-packages (from jupyter-server<2.0.0,>=0.3.0->voila) (1.1.0)\n",
      "Requirement already satisfied: nbformat in c:\\users\\waleed ahmed\\anaaconda\\envs\\axleandolio\\lib\\site-packages (from jupyter-server<2.0.0,>=0.3.0->voila) (5.1.3)\n",
      "Requirement already satisfied: requests-unixsocket in c:\\users\\waleed ahmed\\anaaconda\\envs\\axleandolio\\lib\\site-packages (from jupyter-server<2.0.0,>=0.3.0->voila) (0.2.0)\n",
      "Requirement already satisfied: ipython-genutils in c:\\users\\waleed ahmed\\anaaconda\\envs\\axleandolio\\lib\\site-packages (from jupyter-server<2.0.0,>=0.3.0->voila) (0.2.0)\n",
      "Requirement already satisfied: idna>=2.8 in c:\\users\\waleed ahmed\\anaaconda\\envs\\axleandolio\\lib\\site-packages (from anyio<4,>=3.1.0->jupyter-server<2.0.0,>=0.3.0->voila) (2.10)\n",
      "Requirement already satisfied: sniffio>=1.1 in c:\\users\\waleed ahmed\\anaaconda\\envs\\axleandolio\\lib\\site-packages (from anyio<4,>=3.1.0->jupyter-server<2.0.0,>=0.3.0->voila) (1.2.0)\n",
      "Requirement already satisfied: async-generator in c:\\users\\waleed ahmed\\anaaconda\\envs\\axleandolio\\lib\\site-packages (from nbclient<0.6,>=0.4.0->voila) (1.10)\n",
      "Requirement already satisfied: nest-asyncio in c:\\users\\waleed ahmed\\anaaconda\\envs\\axleandolio\\lib\\site-packages (from nbclient<0.6,>=0.4.0->voila) (1.5.1)\n",
      "Requirement already satisfied: entrypoints>=0.2.2 in c:\\users\\waleed ahmed\\anaaconda\\envs\\axleandolio\\lib\\site-packages (from nbconvert<7,>=6.0.0->voila) (0.3)\n",
      "Requirement already satisfied: bleach in c:\\users\\waleed ahmed\\anaaconda\\envs\\axleandolio\\lib\\site-packages (from nbconvert<7,>=6.0.0->voila) (3.3.0)\n",
      "Requirement already satisfied: jupyterlab-pygments in c:\\users\\waleed ahmed\\anaaconda\\envs\\axleandolio\\lib\\site-packages (from nbconvert<7,>=6.0.0->voila) (0.1.2)\n",
      "Requirement already satisfied: testpath in c:\\users\\waleed ahmed\\anaaconda\\envs\\axleandolio\\lib\\site-packages (from nbconvert<7,>=6.0.0->voila) (0.5.0)\n",
      "Requirement already satisfied: defusedxml in c:\\users\\waleed ahmed\\anaaconda\\envs\\axleandolio\\lib\\site-packages (from nbconvert<7,>=6.0.0->voila) (0.7.1)\n",
      "Requirement already satisfied: mistune<2,>=0.8.1 in c:\\users\\waleed ahmed\\anaaconda\\envs\\axleandolio\\lib\\site-packages (from nbconvert<7,>=6.0.0->voila) (0.8.4)\n",
      "Requirement already satisfied: pygments>=2.4.1 in c:\\users\\waleed ahmed\\anaaconda\\envs\\axleandolio\\lib\\site-packages (from nbconvert<7,>=6.0.0->voila) (2.9.0)\n",
      "Requirement already satisfied: pandocfilters>=1.4.1 in c:\\users\\waleed ahmed\\anaaconda\\envs\\axleandolio\\lib\\site-packages (from nbconvert<7,>=6.0.0->voila) (1.4.3)\n",
      "Requirement already satisfied: MarkupSafe>=2.0 in c:\\users\\waleed ahmed\\anaaconda\\envs\\axleandolio\\lib\\site-packages (from jinja2->jupyter-server<2.0.0,>=0.3.0->voila) (2.0.1)\n",
      "Requirement already satisfied: jsonschema!=2.5.0,>=2.4 in c:\\users\\waleed ahmed\\anaaconda\\envs\\axleandolio\\lib\\site-packages (from nbformat->jupyter-server<2.0.0,>=0.3.0->voila) (3.2.0)\n",
      "Requirement already satisfied: setuptools in c:\\users\\waleed ahmed\\anaaconda\\envs\\axleandolio\\lib\\site-packages (from jsonschema!=2.5.0,>=2.4->nbformat->jupyter-server<2.0.0,>=0.3.0->voila) (52.0.0.post20210125)\n",
      "Requirement already satisfied: attrs>=17.4.0 in c:\\users\\waleed ahmed\\anaaconda\\envs\\axleandolio\\lib\\site-packages (from jsonschema!=2.5.0,>=2.4->nbformat->jupyter-server<2.0.0,>=0.3.0->voila) (21.2.0)\n",
      "Requirement already satisfied: six>=1.11.0 in c:\\users\\waleed ahmed\\anaaconda\\envs\\axleandolio\\lib\\site-packages (from jsonschema!=2.5.0,>=2.4->nbformat->jupyter-server<2.0.0,>=0.3.0->voila) (1.16.0)\n",
      "Requirement already satisfied: pyrsistent>=0.14.0 in c:\\users\\waleed ahmed\\anaaconda\\envs\\axleandolio\\lib\\site-packages (from jsonschema!=2.5.0,>=2.4->nbformat->jupyter-server<2.0.0,>=0.3.0->voila) (0.17.3)\n",
      "Requirement already satisfied: pywinpty>=0.5 in c:\\users\\waleed ahmed\\anaaconda\\envs\\axleandolio\\lib\\site-packages (from terminado>=0.8.3->jupyter-server<2.0.0,>=0.3.0->voila) (0.5.7)\n",
      "Requirement already satisfied: cffi>=1.0.0 in c:\\users\\waleed ahmed\\anaaconda\\envs\\axleandolio\\lib\\site-packages (from argon2-cffi->jupyter-server<2.0.0,>=0.3.0->voila) (1.14.5)\n",
      "Requirement already satisfied: pycparser in c:\\users\\waleed ahmed\\anaaconda\\envs\\axleandolio\\lib\\site-packages (from cffi>=1.0.0->argon2-cffi->jupyter-server<2.0.0,>=0.3.0->voila) (2.20)\n",
      "Requirement already satisfied: packaging in c:\\users\\waleed ahmed\\anaaconda\\envs\\axleandolio\\lib\\site-packages (from bleach->nbconvert<7,>=6.0.0->voila) (20.9)\n",
      "Requirement already satisfied: webencodings in c:\\users\\waleed ahmed\\anaaconda\\envs\\axleandolio\\lib\\site-packages (from bleach->nbconvert<7,>=6.0.0->voila) (0.5.1)\n",
      "Requirement already satisfied: pyparsing>=2.0.2 in c:\\users\\waleed ahmed\\anaaconda\\envs\\axleandolio\\lib\\site-packages (from packaging->bleach->nbconvert<7,>=6.0.0->voila) (2.4.7)\n",
      "Requirement already satisfied: requests>=1.1 in c:\\users\\waleed ahmed\\anaaconda\\envs\\axleandolio\\lib\\site-packages (from requests-unixsocket->jupyter-server<2.0.0,>=0.3.0->voila) (2.25.1)\n",
      "Requirement already satisfied: urllib3>=1.8 in c:\\users\\waleed ahmed\\anaaconda\\envs\\axleandolio\\lib\\site-packages (from requests-unixsocket->jupyter-server<2.0.0,>=0.3.0->voila) (1.26.6)\n",
      "Requirement already satisfied: certifi>=2017.4.17 in c:\\users\\waleed ahmed\\anaaconda\\envs\\axleandolio\\lib\\site-packages (from requests>=1.1->requests-unixsocket->jupyter-server<2.0.0,>=0.3.0->voila) (2021.5.30)\n",
      "Requirement already satisfied: chardet<5,>=3.0.2 in c:\\users\\waleed ahmed\\anaaconda\\envs\\axleandolio\\lib\\site-packages (from requests>=1.1->requests-unixsocket->jupyter-server<2.0.0,>=0.3.0->voila) (4.0.0)\n"
     ]
    }
   ],
   "source": [
    "!pip install voila"
   ]
  },
  {
   "cell_type": "code",
   "execution_count": 4,
   "id": "ead9a0f6",
   "metadata": {},
   "outputs": [
    {
     "name": "stderr",
     "output_type": "stream",
     "text": [
      "'python3' is not recognized as an internal or external command,\n",
      "operable program or batch file.\n"
     ]
    }
   ],
   "source": [
    "! python3 --version"
   ]
  },
  {
   "cell_type": "code",
   "execution_count": null,
   "id": "bf9045b0",
   "metadata": {},
   "outputs": [],
   "source": [
    "! conda install python=3.6"
   ]
  },
  {
   "cell_type": "code",
   "execution_count": null,
   "id": "419d9e3b",
   "metadata": {},
   "outputs": [],
   "source": []
  }
 ],
 "metadata": {
  "kernelspec": {
   "display_name": "Python 3",
   "language": "python",
   "name": "python3"
  },
  "language_info": {
   "codemirror_mode": {
    "name": "ipython",
    "version": 3
   },
   "file_extension": ".py",
   "mimetype": "text/x-python",
   "name": "python",
   "nbconvert_exporter": "python",
   "pygments_lexer": "ipython3",
   "version": "3.8.10"
  }
 },
 "nbformat": 4,
 "nbformat_minor": 5
}
