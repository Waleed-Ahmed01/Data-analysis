{
 "cells": [
  {
   "cell_type": "code",
   "execution_count": 4,
   "id": "07042757",
   "metadata": {},
   "outputs": [],
   "source": [
    "import pandas as pd\n"
   ]
  },
  {
   "cell_type": "code",
   "execution_count": 5,
   "id": "051b2b81",
   "metadata": {},
   "outputs": [],
   "source": [
    "import mysql.connector\n",
    "from mysql.connector import Error\n",
    "\n",
    "import mysql.connector\n",
    "\n",
    "mydb = mysql.connector.connect(\n",
    "  host=\"localhost\",\n",
    "  user=\"root\",\n",
    "  password=\"waleedahmed\",\n",
    "  database=\"us_boxing\"\n",
    ")"
   ]
  },
  {
   "cell_type": "code",
   "execution_count": 6,
   "id": "5866d81f",
   "metadata": {},
   "outputs": [
    {
     "data": {
      "text/html": [
       "<div>\n",
       "<style scoped>\n",
       "    .dataframe tbody tr th:only-of-type {\n",
       "        vertical-align: middle;\n",
       "    }\n",
       "\n",
       "    .dataframe tbody tr th {\n",
       "        vertical-align: top;\n",
       "    }\n",
       "\n",
       "    .dataframe thead th {\n",
       "        text-align: right;\n",
       "    }\n",
       "</style>\n",
       "<table border=\"1\" class=\"dataframe\">\n",
       "  <thead>\n",
       "    <tr style=\"text-align: right;\">\n",
       "      <th></th>\n",
       "      <th>updated_at</th>\n",
       "      <th>sku</th>\n",
       "      <th>parent_sku</th>\n",
       "      <th>order_id</th>\n",
       "      <th>sub_total</th>\n",
       "      <th>item_status</th>\n",
       "      <th>channel_id</th>\n",
       "      <th>customer_type</th>\n",
       "      <th>channel_name</th>\n",
       "    </tr>\n",
       "  </thead>\n",
       "  <tbody>\n",
       "    <tr>\n",
       "      <th>0</th>\n",
       "      <td>2019-10-09 09:18:40</td>\n",
       "      <td>ADIH200BLKGLD14oz</td>\n",
       "      <td>5057.0</td>\n",
       "      <td>1</td>\n",
       "      <td>49.00</td>\n",
       "      <td>canceled</td>\n",
       "      <td>16</td>\n",
       "      <td>B2C</td>\n",
       "      <td>usboxing.net</td>\n",
       "    </tr>\n",
       "    <tr>\n",
       "      <th>1</th>\n",
       "      <td>2019-12-23 07:37:08</td>\n",
       "      <td>ADIBP10NTransparentSenior</td>\n",
       "      <td>5180.0</td>\n",
       "      <td>2</td>\n",
       "      <td>3.00</td>\n",
       "      <td>canceled</td>\n",
       "      <td>16</td>\n",
       "      <td>B2C</td>\n",
       "      <td>usboxing.net</td>\n",
       "    </tr>\n",
       "    <tr>\n",
       "      <th>2</th>\n",
       "      <td>2019-10-04 23:14:55</td>\n",
       "      <td>ADISBG501Black/Gold16OZ</td>\n",
       "      <td>5054.0</td>\n",
       "      <td>3</td>\n",
       "      <td>149.95</td>\n",
       "      <td>shipped</td>\n",
       "      <td>16</td>\n",
       "      <td>B2C</td>\n",
       "      <td>usboxing.net</td>\n",
       "    </tr>\n",
       "    <tr>\n",
       "      <th>3</th>\n",
       "      <td>2019-10-04 05:15:23</td>\n",
       "      <td>AIBAH1RedM</td>\n",
       "      <td>5130.0</td>\n",
       "      <td>4</td>\n",
       "      <td>119.95</td>\n",
       "      <td>shipped</td>\n",
       "      <td>16</td>\n",
       "      <td>B2C</td>\n",
       "      <td>usboxing.net</td>\n",
       "    </tr>\n",
       "    <tr>\n",
       "      <th>4</th>\n",
       "      <td>2019-09-30 22:05:26</td>\n",
       "      <td>ADIH500PROBlack/Gold/Silver14OZ</td>\n",
       "      <td>6491.0</td>\n",
       "      <td>5</td>\n",
       "      <td>169.95</td>\n",
       "      <td>shipped</td>\n",
       "      <td>16</td>\n",
       "      <td>B2C</td>\n",
       "      <td>usboxing.net</td>\n",
       "    </tr>\n",
       "  </tbody>\n",
       "</table>\n",
       "</div>"
      ],
      "text/plain": [
       "           updated_at                              sku  parent_sku  order_id  \\\n",
       "0 2019-10-09 09:18:40                ADIH200BLKGLD14oz      5057.0         1   \n",
       "1 2019-12-23 07:37:08        ADIBP10NTransparentSenior      5180.0         2   \n",
       "2 2019-10-04 23:14:55          ADISBG501Black/Gold16OZ      5054.0         3   \n",
       "3 2019-10-04 05:15:23                       AIBAH1RedM      5130.0         4   \n",
       "4 2019-09-30 22:05:26  ADIH500PROBlack/Gold/Silver14OZ      6491.0         5   \n",
       "\n",
       "  sub_total item_status  channel_id customer_type  channel_name  \n",
       "0     49.00    canceled          16           B2C  usboxing.net  \n",
       "1      3.00    canceled          16           B2C  usboxing.net  \n",
       "2    149.95     shipped          16           B2C  usboxing.net  \n",
       "3    119.95     shipped          16           B2C  usboxing.net  \n",
       "4    169.95     shipped          16           B2C  usboxing.net  "
      ]
     },
     "execution_count": 6,
     "metadata": {},
     "output_type": "execute_result"
    }
   ],
   "source": [
    "cur = mydb.cursor()\n",
    "sales_query = \"SELECT oi.item_updated_at,oi.item_sku,p.parent_sku_id,oi.order_id AS `Order Item Order Id`,oi.sub_total,oi.item_status,o.channel_id,o.customer_type,c.name FROM order_items oi INNER JOIN orders o ON oi.order_id=o.id INNER JOIN channels c ON c.id = o.channel_id INNER JOIN products p ON oi.item_sku=p.sku\"\n",
    "cur.execute(sales_query)\n",
    "df_sales= pd.DataFrame(data=cur.fetchall(),columns=['updated_at','sku','parent_sku','order_id','sub_total','item_status','channel_id','customer_type','channel_name'])\n",
    "df_sales.head()"
   ]
  },
  {
   "cell_type": "code",
   "execution_count": 7,
   "id": "541ef0f6",
   "metadata": {},
   "outputs": [
    {
     "data": {
      "text/html": [
       "<div>\n",
       "<style scoped>\n",
       "    .dataframe tbody tr th:only-of-type {\n",
       "        vertical-align: middle;\n",
       "    }\n",
       "\n",
       "    .dataframe tbody tr th {\n",
       "        vertical-align: top;\n",
       "    }\n",
       "\n",
       "    .dataframe thead th {\n",
       "        text-align: right;\n",
       "    }\n",
       "</style>\n",
       "<table border=\"1\" class=\"dataframe\">\n",
       "  <thead>\n",
       "    <tr style=\"text-align: right;\">\n",
       "      <th></th>\n",
       "      <th>parent_name</th>\n",
       "      <th>parent_id</th>\n",
       "    </tr>\n",
       "  </thead>\n",
       "  <tbody>\n",
       "    <tr>\n",
       "      <th>0</th>\n",
       "      <td>ADHBG100</td>\n",
       "      <td>4517</td>\n",
       "    </tr>\n",
       "    <tr>\n",
       "      <th>1</th>\n",
       "      <td>ADHTG300</td>\n",
       "      <td>4526</td>\n",
       "    </tr>\n",
       "    <tr>\n",
       "      <th>2</th>\n",
       "      <td>ADIBCM06</td>\n",
       "      <td>4546</td>\n",
       "    </tr>\n",
       "    <tr>\n",
       "      <th>3</th>\n",
       "      <td>ADIH200PL</td>\n",
       "      <td>4550</td>\n",
       "    </tr>\n",
       "    <tr>\n",
       "      <th>4</th>\n",
       "      <td>ADIH75</td>\n",
       "      <td>4563</td>\n",
       "    </tr>\n",
       "  </tbody>\n",
       "</table>\n",
       "</div>"
      ],
      "text/plain": [
       "  parent_name  parent_id\n",
       "0    ADHBG100       4517\n",
       "1    ADHTG300       4526\n",
       "2    ADIBCM06       4546\n",
       "3   ADIH200PL       4550\n",
       "4      ADIH75       4563"
      ]
     },
     "execution_count": 7,
     "metadata": {},
     "output_type": "execute_result"
    }
   ],
   "source": [
    "curr = mydb.cursor()\n",
    "parents = \"SELECT p.sku,p.id FROM products p WHERE p.parent_sku_id IS NULL\"\n",
    "curr.execute(parents)\n",
    "df_parents= pd.DataFrame(data=curr.fetchall(),columns=['parent_name','parent_id'])\n",
    "df_parents.head()"
   ]
  },
  {
   "cell_type": "code",
   "execution_count": 8,
   "id": "dd699898",
   "metadata": {},
   "outputs": [],
   "source": [
    "df_sales=pd.merge(df_sales,df_parents,left_on='parent_sku',right_on='parent_id',how='inner')"
   ]
  },
  {
   "cell_type": "code",
   "execution_count": 9,
   "id": "46617cc0",
   "metadata": {},
   "outputs": [],
   "source": [
    "df_sales.drop(df_sales[df_sales['item_status']=='canceled'].index, inplace = True)"
   ]
  },
  {
   "cell_type": "code",
   "execution_count": 10,
   "id": "ae227186",
   "metadata": {},
   "outputs": [],
   "source": [
    "df_sales['year']=df_sales['updated_at'].dt.year\n",
    "df_sales['month']=df_sales['updated_at'].dt.month\n",
    "df_sales['day']=df_sales['updated_at'].dt.day"
   ]
  },
  {
   "cell_type": "code",
   "execution_count": 11,
   "id": "5053294f",
   "metadata": {},
   "outputs": [],
   "source": [
    "#2021\n",
    "twenty_one=df_sales.query('year==2021')"
   ]
  },
  {
   "cell_type": "code",
   "execution_count": 12,
   "id": "2c37b465",
   "metadata": {},
   "outputs": [
    {
     "name": "stderr",
     "output_type": "stream",
     "text": [
      "<ipython-input-12-b2c01ce04a62>:10: SettingWithCopyWarning: \n",
      "A value is trying to be set on a copy of a slice from a DataFrame.\n",
      "Try using .loc[row_indexer,col_indexer] = value instead\n",
      "\n",
      "See the caveats in the documentation: https://pandas.pydata.org/pandas-docs/stable/user_guide/indexing.html#returning-a-view-versus-a-copy\n",
      "  twenty_one['quarter'] = np.select(conditions, values)\n"
     ]
    }
   ],
   "source": [
    "import seaborn as sns\n",
    "\n",
    "conditions = [\n",
    "    (twenty_one['month']>=1) & (twenty_one['month']<= 3),\n",
    "    (twenty_one['month']>=4) & (twenty_one['month']<= 6),\n",
    "    (twenty_one['month']>=7) & (twenty_one['month']<= 9),\n",
    "    (twenty_one['month']>=10) & (twenty_one['month']<= 12)]\n",
    "values = ['Q1', 'Q2', 'Q3', 'Q4']\n",
    "import numpy as np\n",
    "twenty_one['quarter'] = np.select(conditions, values)"
   ]
  },
  {
   "cell_type": "code",
   "execution_count": 13,
   "id": "1d3c1cf4",
   "metadata": {},
   "outputs": [
    {
     "name": "stderr",
     "output_type": "stream",
     "text": [
      "<ipython-input-13-1d7e8039e965>:5: SettingWithCopyWarning: \n",
      "A value is trying to be set on a copy of a slice from a DataFrame.\n",
      "Try using .loc[row_indexer,col_indexer] = value instead\n",
      "\n",
      "See the caveats in the documentation: https://pandas.pydata.org/pandas-docs/stable/user_guide/indexing.html#returning-a-view-versus-a-copy\n",
      "  twenty_one['half_yearly'] = np.select(conditions_2021_halfyearly, values_2021_half_yearly)\n"
     ]
    }
   ],
   "source": [
    "conditions_2021_halfyearly = [\n",
    "    (twenty_one['month']>=1) & (twenty_one['month'] <= 6),\n",
    "    (twenty_one['month'] >=7) & (twenty_one['month'] <= 12)]\n",
    "values_2021_half_yearly = ['1st_half', '2nd_half']\n",
    "twenty_one['half_yearly'] = np.select(conditions_2021_halfyearly, values_2021_half_yearly)"
   ]
  },
  {
   "cell_type": "code",
   "execution_count": 14,
   "id": "aa95bff7",
   "metadata": {},
   "outputs": [
    {
     "data": {
      "text/html": [
       "<div>\n",
       "<style scoped>\n",
       "    .dataframe tbody tr th:only-of-type {\n",
       "        vertical-align: middle;\n",
       "    }\n",
       "\n",
       "    .dataframe tbody tr th {\n",
       "        vertical-align: top;\n",
       "    }\n",
       "\n",
       "    .dataframe thead th {\n",
       "        text-align: right;\n",
       "    }\n",
       "</style>\n",
       "<table border=\"1\" class=\"dataframe\">\n",
       "  <thead>\n",
       "    <tr style=\"text-align: right;\">\n",
       "      <th></th>\n",
       "      <th>updated_at</th>\n",
       "      <th>sku</th>\n",
       "      <th>parent_sku</th>\n",
       "      <th>order_id</th>\n",
       "      <th>sub_total</th>\n",
       "      <th>item_status</th>\n",
       "      <th>channel_id</th>\n",
       "      <th>customer_type</th>\n",
       "      <th>channel_name</th>\n",
       "      <th>parent_name</th>\n",
       "      <th>parent_id</th>\n",
       "      <th>year</th>\n",
       "      <th>month</th>\n",
       "      <th>day</th>\n",
       "      <th>quarter</th>\n",
       "      <th>half_yearly</th>\n",
       "    </tr>\n",
       "  </thead>\n",
       "  <tbody>\n",
       "    <tr>\n",
       "      <th>77</th>\n",
       "      <td>2021-01-03 21:20:29</td>\n",
       "      <td>ADIH200_14oz_MIK_CRD_SIL</td>\n",
       "      <td>5057.0</td>\n",
       "      <td>5514</td>\n",
       "      <td>79.99</td>\n",
       "      <td>shipped</td>\n",
       "      <td>19</td>\n",
       "      <td>B2C</td>\n",
       "      <td>usboxingamazon</td>\n",
       "      <td>ADIH200</td>\n",
       "      <td>5057</td>\n",
       "      <td>2021</td>\n",
       "      <td>1</td>\n",
       "      <td>3</td>\n",
       "      <td>Q1</td>\n",
       "      <td>1st_half</td>\n",
       "    </tr>\n",
       "    <tr>\n",
       "      <th>78</th>\n",
       "      <td>2021-01-16 08:20:08</td>\n",
       "      <td>ADIH200BLKGLD16OZ</td>\n",
       "      <td>5057.0</td>\n",
       "      <td>5588</td>\n",
       "      <td>99.95</td>\n",
       "      <td>shipped</td>\n",
       "      <td>19</td>\n",
       "      <td>B2C</td>\n",
       "      <td>usboxingamazon</td>\n",
       "      <td>ADIH200</td>\n",
       "      <td>5057</td>\n",
       "      <td>2021</td>\n",
       "      <td>1</td>\n",
       "      <td>16</td>\n",
       "      <td>Q1</td>\n",
       "      <td>1st_half</td>\n",
       "    </tr>\n",
       "    <tr>\n",
       "      <th>79</th>\n",
       "      <td>2021-01-15 22:48:53</td>\n",
       "      <td>ADIH200_18oz_WHT_BLK_SIL</td>\n",
       "      <td>5057.0</td>\n",
       "      <td>5595</td>\n",
       "      <td>99.95</td>\n",
       "      <td>shipped</td>\n",
       "      <td>19</td>\n",
       "      <td>B2C</td>\n",
       "      <td>usboxingamazon</td>\n",
       "      <td>ADIH200</td>\n",
       "      <td>5057</td>\n",
       "      <td>2021</td>\n",
       "      <td>1</td>\n",
       "      <td>15</td>\n",
       "      <td>Q1</td>\n",
       "      <td>1st_half</td>\n",
       "    </tr>\n",
       "    <tr>\n",
       "      <th>80</th>\n",
       "      <td>2021-01-22 06:28:13</td>\n",
       "      <td>ADIH200_16oz_BLK_WHT</td>\n",
       "      <td>5057.0</td>\n",
       "      <td>5622</td>\n",
       "      <td>99.95</td>\n",
       "      <td>shipped</td>\n",
       "      <td>19</td>\n",
       "      <td>B2C</td>\n",
       "      <td>usboxingamazon</td>\n",
       "      <td>ADIH200</td>\n",
       "      <td>5057</td>\n",
       "      <td>2021</td>\n",
       "      <td>1</td>\n",
       "      <td>22</td>\n",
       "      <td>Q1</td>\n",
       "      <td>1st_half</td>\n",
       "    </tr>\n",
       "    <tr>\n",
       "      <th>81</th>\n",
       "      <td>2021-02-08 19:02:18</td>\n",
       "      <td>ADIH200_18oz_WHT_BLK_SIL</td>\n",
       "      <td>5057.0</td>\n",
       "      <td>5677</td>\n",
       "      <td>99.95</td>\n",
       "      <td>shipped</td>\n",
       "      <td>19</td>\n",
       "      <td>B2C</td>\n",
       "      <td>usboxingamazon</td>\n",
       "      <td>ADIH200</td>\n",
       "      <td>5057</td>\n",
       "      <td>2021</td>\n",
       "      <td>2</td>\n",
       "      <td>8</td>\n",
       "      <td>Q1</td>\n",
       "      <td>1st_half</td>\n",
       "    </tr>\n",
       "    <tr>\n",
       "      <th>...</th>\n",
       "      <td>...</td>\n",
       "      <td>...</td>\n",
       "      <td>...</td>\n",
       "      <td>...</td>\n",
       "      <td>...</td>\n",
       "      <td>...</td>\n",
       "      <td>...</td>\n",
       "      <td>...</td>\n",
       "      <td>...</td>\n",
       "      <td>...</td>\n",
       "      <td>...</td>\n",
       "      <td>...</td>\n",
       "      <td>...</td>\n",
       "      <td>...</td>\n",
       "      <td>...</td>\n",
       "      <td>...</td>\n",
       "    </tr>\n",
       "    <tr>\n",
       "      <th>7881</th>\n",
       "      <td>2021-06-30 22:59:18</td>\n",
       "      <td>ADIH80_6oz_BLK_GLD</td>\n",
       "      <td>10696.0</td>\n",
       "      <td>8106</td>\n",
       "      <td>22.99</td>\n",
       "      <td>pending</td>\n",
       "      <td>19</td>\n",
       "      <td>B2C</td>\n",
       "      <td>usboxingamazon</td>\n",
       "      <td>ADIH80</td>\n",
       "      <td>10696</td>\n",
       "      <td>2021</td>\n",
       "      <td>6</td>\n",
       "      <td>30</td>\n",
       "      <td>Q2</td>\n",
       "      <td>1st_half</td>\n",
       "    </tr>\n",
       "    <tr>\n",
       "      <th>7882</th>\n",
       "      <td>2021-06-30 23:55:59</td>\n",
       "      <td>ADIH80_12oz_BLK_SHP</td>\n",
       "      <td>10696.0</td>\n",
       "      <td>8110</td>\n",
       "      <td>29.99</td>\n",
       "      <td>pending</td>\n",
       "      <td>19</td>\n",
       "      <td>B2C</td>\n",
       "      <td>usboxingamazon</td>\n",
       "      <td>ADIH80</td>\n",
       "      <td>10696</td>\n",
       "      <td>2021</td>\n",
       "      <td>6</td>\n",
       "      <td>30</td>\n",
       "      <td>Q2</td>\n",
       "      <td>1st_half</td>\n",
       "    </tr>\n",
       "    <tr>\n",
       "      <th>7883</th>\n",
       "      <td>2021-07-01 03:34:20</td>\n",
       "      <td>ADIH80_16oz_BLK_WHT</td>\n",
       "      <td>10696.0</td>\n",
       "      <td>8116</td>\n",
       "      <td>29.99</td>\n",
       "      <td>pending</td>\n",
       "      <td>19</td>\n",
       "      <td>B2C</td>\n",
       "      <td>usboxingamazon</td>\n",
       "      <td>ADIH80</td>\n",
       "      <td>10696</td>\n",
       "      <td>2021</td>\n",
       "      <td>7</td>\n",
       "      <td>1</td>\n",
       "      <td>Q3</td>\n",
       "      <td>2nd_half</td>\n",
       "    </tr>\n",
       "    <tr>\n",
       "      <th>7884</th>\n",
       "      <td>2021-07-01 04:19:25</td>\n",
       "      <td>ADIH80_6oz_BLK_GLD</td>\n",
       "      <td>10696.0</td>\n",
       "      <td>8120</td>\n",
       "      <td>22.99</td>\n",
       "      <td>pending</td>\n",
       "      <td>19</td>\n",
       "      <td>B2C</td>\n",
       "      <td>usboxingamazon</td>\n",
       "      <td>ADIH80</td>\n",
       "      <td>10696</td>\n",
       "      <td>2021</td>\n",
       "      <td>7</td>\n",
       "      <td>1</td>\n",
       "      <td>Q3</td>\n",
       "      <td>2nd_half</td>\n",
       "    </tr>\n",
       "    <tr>\n",
       "      <th>7885</th>\n",
       "      <td>2021-06-02 23:12:29</td>\n",
       "      <td>ADISP300DB_STD_BLK_WHT</td>\n",
       "      <td>6528.0</td>\n",
       "      <td>6910</td>\n",
       "      <td>69.95</td>\n",
       "      <td>shipped</td>\n",
       "      <td>16</td>\n",
       "      <td>B2C</td>\n",
       "      <td>usboxing.net</td>\n",
       "      <td>ADISP300DB</td>\n",
       "      <td>6528</td>\n",
       "      <td>2021</td>\n",
       "      <td>6</td>\n",
       "      <td>2</td>\n",
       "      <td>Q2</td>\n",
       "      <td>1st_half</td>\n",
       "    </tr>\n",
       "  </tbody>\n",
       "</table>\n",
       "<p>1955 rows × 16 columns</p>\n",
       "</div>"
      ],
      "text/plain": [
       "              updated_at                       sku  parent_sku  order_id  \\\n",
       "77   2021-01-03 21:20:29  ADIH200_14oz_MIK_CRD_SIL      5057.0      5514   \n",
       "78   2021-01-16 08:20:08         ADIH200BLKGLD16OZ      5057.0      5588   \n",
       "79   2021-01-15 22:48:53  ADIH200_18oz_WHT_BLK_SIL      5057.0      5595   \n",
       "80   2021-01-22 06:28:13      ADIH200_16oz_BLK_WHT      5057.0      5622   \n",
       "81   2021-02-08 19:02:18  ADIH200_18oz_WHT_BLK_SIL      5057.0      5677   \n",
       "...                  ...                       ...         ...       ...   \n",
       "7881 2021-06-30 22:59:18        ADIH80_6oz_BLK_GLD     10696.0      8106   \n",
       "7882 2021-06-30 23:55:59       ADIH80_12oz_BLK_SHP     10696.0      8110   \n",
       "7883 2021-07-01 03:34:20       ADIH80_16oz_BLK_WHT     10696.0      8116   \n",
       "7884 2021-07-01 04:19:25        ADIH80_6oz_BLK_GLD     10696.0      8120   \n",
       "7885 2021-06-02 23:12:29    ADISP300DB_STD_BLK_WHT      6528.0      6910   \n",
       "\n",
       "     sub_total item_status  channel_id customer_type    channel_name  \\\n",
       "77       79.99     shipped          19           B2C  usboxingamazon   \n",
       "78       99.95     shipped          19           B2C  usboxingamazon   \n",
       "79       99.95     shipped          19           B2C  usboxingamazon   \n",
       "80       99.95     shipped          19           B2C  usboxingamazon   \n",
       "81       99.95     shipped          19           B2C  usboxingamazon   \n",
       "...        ...         ...         ...           ...             ...   \n",
       "7881     22.99     pending          19           B2C  usboxingamazon   \n",
       "7882     29.99     pending          19           B2C  usboxingamazon   \n",
       "7883     29.99     pending          19           B2C  usboxingamazon   \n",
       "7884     22.99     pending          19           B2C  usboxingamazon   \n",
       "7885     69.95     shipped          16           B2C    usboxing.net   \n",
       "\n",
       "     parent_name  parent_id  year  month  day quarter half_yearly  \n",
       "77       ADIH200       5057  2021      1    3      Q1    1st_half  \n",
       "78       ADIH200       5057  2021      1   16      Q1    1st_half  \n",
       "79       ADIH200       5057  2021      1   15      Q1    1st_half  \n",
       "80       ADIH200       5057  2021      1   22      Q1    1st_half  \n",
       "81       ADIH200       5057  2021      2    8      Q1    1st_half  \n",
       "...          ...        ...   ...    ...  ...     ...         ...  \n",
       "7881      ADIH80      10696  2021      6   30      Q2    1st_half  \n",
       "7882      ADIH80      10696  2021      6   30      Q2    1st_half  \n",
       "7883      ADIH80      10696  2021      7    1      Q3    2nd_half  \n",
       "7884      ADIH80      10696  2021      7    1      Q3    2nd_half  \n",
       "7885  ADISP300DB       6528  2021      6    2      Q2    1st_half  \n",
       "\n",
       "[1955 rows x 16 columns]"
      ]
     },
     "execution_count": 14,
     "metadata": {},
     "output_type": "execute_result"
    }
   ],
   "source": [
    "twenty_one"
   ]
  },
  {
   "cell_type": "code",
   "execution_count": 17,
   "id": "c6e05a0c",
   "metadata": {},
   "outputs": [],
   "source": [
    "shop_sales=twenty_one.groupby(['channel_name','quarter'])['sub_total'].sum()\n",
    "shop_sales=pd.DataFrame(shop_sales)"
   ]
  },
  {
   "cell_type": "code",
   "execution_count": 19,
   "id": "3bd9d6f7",
   "metadata": {},
   "outputs": [],
   "source": [
    "shop_sales.reset_index(inplace=True)"
   ]
  },
  {
   "cell_type": "code",
   "execution_count": 20,
   "id": "b9365185",
   "metadata": {},
   "outputs": [
    {
     "data": {
      "text/html": [
       "<div>\n",
       "<style scoped>\n",
       "    .dataframe tbody tr th:only-of-type {\n",
       "        vertical-align: middle;\n",
       "    }\n",
       "\n",
       "    .dataframe tbody tr th {\n",
       "        vertical-align: top;\n",
       "    }\n",
       "\n",
       "    .dataframe thead th {\n",
       "        text-align: right;\n",
       "    }\n",
       "</style>\n",
       "<table border=\"1\" class=\"dataframe\">\n",
       "  <thead>\n",
       "    <tr style=\"text-align: right;\">\n",
       "      <th></th>\n",
       "      <th>channel_name</th>\n",
       "      <th>quarter</th>\n",
       "      <th>sub_total</th>\n",
       "    </tr>\n",
       "  </thead>\n",
       "  <tbody>\n",
       "    <tr>\n",
       "      <th>0</th>\n",
       "      <td>ebayusboxing</td>\n",
       "      <td>Q1</td>\n",
       "      <td>1559.48</td>\n",
       "    </tr>\n",
       "    <tr>\n",
       "      <th>1</th>\n",
       "      <td>ebayusboxing</td>\n",
       "      <td>Q2</td>\n",
       "      <td>2183.92</td>\n",
       "    </tr>\n",
       "    <tr>\n",
       "      <th>2</th>\n",
       "      <td>usboxing.net</td>\n",
       "      <td>Q1</td>\n",
       "      <td>8795.27</td>\n",
       "    </tr>\n",
       "    <tr>\n",
       "      <th>3</th>\n",
       "      <td>usboxing.net</td>\n",
       "      <td>Q2</td>\n",
       "      <td>17010.11</td>\n",
       "    </tr>\n",
       "    <tr>\n",
       "      <th>4</th>\n",
       "      <td>usboxingamazon</td>\n",
       "      <td>Q1</td>\n",
       "      <td>10693.03</td>\n",
       "    </tr>\n",
       "    <tr>\n",
       "      <th>5</th>\n",
       "      <td>usboxingamazon</td>\n",
       "      <td>Q2</td>\n",
       "      <td>44088.16</td>\n",
       "    </tr>\n",
       "    <tr>\n",
       "      <th>6</th>\n",
       "      <td>usboxingamazon</td>\n",
       "      <td>Q3</td>\n",
       "      <td>482.73</td>\n",
       "    </tr>\n",
       "    <tr>\n",
       "      <th>7</th>\n",
       "      <td>usboxingwalmart</td>\n",
       "      <td>Q1</td>\n",
       "      <td>2348.60</td>\n",
       "    </tr>\n",
       "    <tr>\n",
       "      <th>8</th>\n",
       "      <td>usboxingwalmart</td>\n",
       "      <td>Q2</td>\n",
       "      <td>3684.71</td>\n",
       "    </tr>\n",
       "    <tr>\n",
       "      <th>9</th>\n",
       "      <td>usfightstore</td>\n",
       "      <td>Q1</td>\n",
       "      <td>1343.90</td>\n",
       "    </tr>\n",
       "    <tr>\n",
       "      <th>10</th>\n",
       "      <td>usfightstore</td>\n",
       "      <td>Q2</td>\n",
       "      <td>2897.83</td>\n",
       "    </tr>\n",
       "  </tbody>\n",
       "</table>\n",
       "</div>"
      ],
      "text/plain": [
       "       channel_name quarter sub_total\n",
       "0      ebayusboxing      Q1   1559.48\n",
       "1      ebayusboxing      Q2   2183.92\n",
       "2      usboxing.net      Q1   8795.27\n",
       "3      usboxing.net      Q2  17010.11\n",
       "4    usboxingamazon      Q1  10693.03\n",
       "5    usboxingamazon      Q2  44088.16\n",
       "6    usboxingamazon      Q3    482.73\n",
       "7   usboxingwalmart      Q1   2348.60\n",
       "8   usboxingwalmart      Q2   3684.71\n",
       "9      usfightstore      Q1   1343.90\n",
       "10     usfightstore      Q2   2897.83"
      ]
     },
     "execution_count": 20,
     "metadata": {},
     "output_type": "execute_result"
    }
   ],
   "source": [
    "shop_sales"
   ]
  },
  {
   "cell_type": "code",
   "execution_count": 22,
   "id": "01ffdc13",
   "metadata": {},
   "outputs": [
    {
     "data": {
      "text/plain": [
       "<seaborn.axisgrid.FacetGrid at 0x8eaf350700>"
      ]
     },
     "execution_count": 22,
     "metadata": {},
     "output_type": "execute_result"
    },
    {
     "data": {
      "image/png": "[encoded data removed]",
      "text/plain": [
       "<Figure size 482x360 with 1 Axes>"
      ]
     },
     "metadata": {
      "needs_background": "light"
     },
     "output_type": "display_data"
    }
   ],
   "source": [
    "sns.relplot(\n",
    "    data=shop_sales, x=\"quarter\", y=\"sub_total\",hue='channel_name',\n",
    "    kind=\"line\"\n",
    ")"
   ]
  },
  {
   "cell_type": "code",
   "execution_count": 25,
   "id": "0a094dab",
   "metadata": {},
   "outputs": [],
   "source": [
    "shop_orders=twenty_one.groupby(['channel_name','quarter'])['order_id'].count()\n",
    "shop_orders=pd.DataFrame(shop_orders)\n",
    "shop_orders.columns=['no_of_orders']"
   ]
  },
  {
   "cell_type": "code",
   "execution_count": 27,
   "id": "df9301c8",
   "metadata": {},
   "outputs": [],
   "source": [
    "shop_orders.reset_index(inplace=True)"
   ]
  },
  {
   "cell_type": "code",
   "execution_count": 28,
   "id": "b164ccb6",
   "metadata": {},
   "outputs": [
    {
     "data": {
      "text/plain": [
       "<seaborn.axisgrid.FacetGrid at 0x8ea6b27460>"
      ]
     },
     "execution_count": 28,
     "metadata": {},
     "output_type": "execute_result"
    },
    {
     "data": {
      "image/png": "[encoded data removed]",
      "text/plain": [
       "<Figure size 482x360 with 1 Axes>"
      ]
     },
     "metadata": {
      "needs_background": "light"
     },
     "output_type": "display_data"
    }
   ],
   "source": [
    "sns.relplot(\n",
    "    data=shop_orders, x=\"quarter\", y=\"no_of_orders\",hue='channel_name',\n",
    "    kind=\"line\"\n",
    ")"
   ]
  },
  {
   "cell_type": "code",
   "execution_count": 29,
   "id": "a8ecd221",
   "metadata": {},
   "outputs": [],
   "source": [
    "shop_sales_quarter=twenty_one.groupby(['channel_name','half_yearly'])['sub_total'].sum()\n",
    "shop_sales_quarter=pd.DataFrame(shop_sales_quarter)"
   ]
  },
  {
   "cell_type": "code",
   "execution_count": 31,
   "id": "df6f6c83",
   "metadata": {},
   "outputs": [],
   "source": [
    "shop_sales_quarter.reset_index(inplace=True)"
   ]
  },
  {
   "cell_type": "code",
   "execution_count": 32,
   "id": "f5c86901",
   "metadata": {},
   "outputs": [
    {
     "data": {
      "text/plain": [
       "<seaborn.axisgrid.FacetGrid at 0x8eb9064e80>"
      ]
     },
     "execution_count": 32,
     "metadata": {},
     "output_type": "execute_result"
    },
    {
     "data": {
      "image/png": "[encoded data removed]",
      "text/plain": [
       "<Figure size 482x360 with 1 Axes>"
      ]
     },
     "metadata": {
      "needs_background": "light"
     },
     "output_type": "display_data"
    }
   ],
   "source": [
    "sns.relplot(\n",
    "    data=shop_sales_quarter, x=\"half_yearly\", y=\"sub_total\",hue='channel_name',\n",
    "    kind=\"line\"\n",
    ")"
   ]
  },
  {
   "cell_type": "code",
   "execution_count": 34,
   "id": "d0f1b114",
   "metadata": {},
   "outputs": [],
   "source": [
    "#2020\n",
    "twenty_twenty=df_sales.query('year==2020')"
   ]
  },
  {
   "cell_type": "code",
   "execution_count": 35,
   "id": "68853dd4",
   "metadata": {},
   "outputs": [
    {
     "name": "stderr",
     "output_type": "stream",
     "text": [
      "<ipython-input-35-1487ab217cc6>:8: SettingWithCopyWarning: \n",
      "A value is trying to be set on a copy of a slice from a DataFrame.\n",
      "Try using .loc[row_indexer,col_indexer] = value instead\n",
      "\n",
      "See the caveats in the documentation: https://pandas.pydata.org/pandas-docs/stable/user_guide/indexing.html#returning-a-view-versus-a-copy\n",
      "  twenty_twenty['quarter'] = np.select(conditions_twenty, values_twenty)\n"
     ]
    }
   ],
   "source": [
    "conditions_twenty = [\n",
    "    (twenty_twenty['month']>=1) & (twenty_twenty['month']<= 3),\n",
    "    (twenty_twenty['month']>=4) & (twenty_twenty['month']<= 6),\n",
    "    (twenty_twenty['month']>=7) & (twenty_twenty['month']<= 9),\n",
    "    (twenty_twenty['month']>=10) & (twenty_twenty['month']<= 12)]\n",
    "values_twenty = ['Q1', 'Q2', 'Q3', 'Q4']\n",
    "import numpy as np\n",
    "twenty_twenty['quarter'] = np.select(conditions_twenty, values_twenty)"
   ]
  },
  {
   "cell_type": "code",
   "execution_count": 36,
   "id": "5661fd76",
   "metadata": {},
   "outputs": [
    {
     "name": "stderr",
     "output_type": "stream",
     "text": [
      "<ipython-input-36-7ebdbd96cd4a>:5: SettingWithCopyWarning: \n",
      "A value is trying to be set on a copy of a slice from a DataFrame.\n",
      "Try using .loc[row_indexer,col_indexer] = value instead\n",
      "\n",
      "See the caveats in the documentation: https://pandas.pydata.org/pandas-docs/stable/user_guide/indexing.html#returning-a-view-versus-a-copy\n",
      "  twenty_twenty['half_yearly'] = np.select(conditions_2020_halfyearly, values_2020_half_yearly)\n"
     ]
    }
   ],
   "source": [
    "conditions_2020_halfyearly = [\n",
    "    (twenty_twenty['month']>=1) & (twenty_twenty['month'] <= 6),\n",
    "    (twenty_twenty['month'] >=7) & (twenty_twenty['month'] <= 12)]\n",
    "values_2020_half_yearly = ['1st_half', '2nd_half']\n",
    "twenty_twenty['half_yearly'] = np.select(conditions_2020_halfyearly, values_2020_half_yearly)"
   ]
  },
  {
   "cell_type": "code",
   "execution_count": 37,
   "id": "6b16df4b",
   "metadata": {},
   "outputs": [],
   "source": [
    "shop_sales_twenty=twenty_twenty.groupby(['channel_name','quarter'])['sub_total'].sum()\n",
    "shop_sales_twenty=pd.DataFrame(shop_sales_twenty)"
   ]
  },
  {
   "cell_type": "code",
   "execution_count": 38,
   "id": "d24e7c65",
   "metadata": {},
   "outputs": [],
   "source": [
    "shop_sales_twenty.reset_index(inplace=True)"
   ]
  },
  {
   "cell_type": "code",
   "execution_count": 39,
   "id": "17b1f60b",
   "metadata": {},
   "outputs": [
    {
     "data": {
      "text/html": [
       "<div>\n",
       "<style scoped>\n",
       "    .dataframe tbody tr th:only-of-type {\n",
       "        vertical-align: middle;\n",
       "    }\n",
       "\n",
       "    .dataframe tbody tr th {\n",
       "        vertical-align: top;\n",
       "    }\n",
       "\n",
       "    .dataframe thead th {\n",
       "        text-align: right;\n",
       "    }\n",
       "</style>\n",
       "<table border=\"1\" class=\"dataframe\">\n",
       "  <thead>\n",
       "    <tr style=\"text-align: right;\">\n",
       "      <th></th>\n",
       "      <th>channel_name</th>\n",
       "      <th>quarter</th>\n",
       "      <th>sub_total</th>\n",
       "    </tr>\n",
       "  </thead>\n",
       "  <tbody>\n",
       "    <tr>\n",
       "      <th>0</th>\n",
       "      <td>ebayusboxing</td>\n",
       "      <td>Q1</td>\n",
       "      <td>5295.61</td>\n",
       "    </tr>\n",
       "    <tr>\n",
       "      <th>1</th>\n",
       "      <td>ebayusboxing</td>\n",
       "      <td>Q2</td>\n",
       "      <td>10892.92</td>\n",
       "    </tr>\n",
       "    <tr>\n",
       "      <th>2</th>\n",
       "      <td>ebayusboxing</td>\n",
       "      <td>Q3</td>\n",
       "      <td>8247.29</td>\n",
       "    </tr>\n",
       "    <tr>\n",
       "      <th>3</th>\n",
       "      <td>ebayusboxing</td>\n",
       "      <td>Q4</td>\n",
       "      <td>4311.38</td>\n",
       "    </tr>\n",
       "    <tr>\n",
       "      <th>4</th>\n",
       "      <td>usboxing.net</td>\n",
       "      <td>Q1</td>\n",
       "      <td>9431.45</td>\n",
       "    </tr>\n",
       "    <tr>\n",
       "      <th>5</th>\n",
       "      <td>usboxing.net</td>\n",
       "      <td>Q2</td>\n",
       "      <td>14712.12</td>\n",
       "    </tr>\n",
       "    <tr>\n",
       "      <th>6</th>\n",
       "      <td>usboxing.net</td>\n",
       "      <td>Q3</td>\n",
       "      <td>8305.48</td>\n",
       "    </tr>\n",
       "    <tr>\n",
       "      <th>7</th>\n",
       "      <td>usboxing.net</td>\n",
       "      <td>Q4</td>\n",
       "      <td>8591.84</td>\n",
       "    </tr>\n",
       "    <tr>\n",
       "      <th>8</th>\n",
       "      <td>usboxingamazon</td>\n",
       "      <td>Q1</td>\n",
       "      <td>19913.21</td>\n",
       "    </tr>\n",
       "    <tr>\n",
       "      <th>9</th>\n",
       "      <td>usboxingamazon</td>\n",
       "      <td>Q2</td>\n",
       "      <td>21611.28</td>\n",
       "    </tr>\n",
       "    <tr>\n",
       "      <th>10</th>\n",
       "      <td>usboxingamazon</td>\n",
       "      <td>Q3</td>\n",
       "      <td>26971.15</td>\n",
       "    </tr>\n",
       "    <tr>\n",
       "      <th>11</th>\n",
       "      <td>usboxingamazon</td>\n",
       "      <td>Q4</td>\n",
       "      <td>35402.29</td>\n",
       "    </tr>\n",
       "    <tr>\n",
       "      <th>12</th>\n",
       "      <td>usboxingwalmart</td>\n",
       "      <td>Q1</td>\n",
       "      <td>1527.70</td>\n",
       "    </tr>\n",
       "    <tr>\n",
       "      <th>13</th>\n",
       "      <td>usboxingwalmart</td>\n",
       "      <td>Q2</td>\n",
       "      <td>9433.28</td>\n",
       "    </tr>\n",
       "    <tr>\n",
       "      <th>14</th>\n",
       "      <td>usboxingwalmart</td>\n",
       "      <td>Q3</td>\n",
       "      <td>6826.09</td>\n",
       "    </tr>\n",
       "    <tr>\n",
       "      <th>15</th>\n",
       "      <td>usboxingwalmart</td>\n",
       "      <td>Q4</td>\n",
       "      <td>6121.58</td>\n",
       "    </tr>\n",
       "    <tr>\n",
       "      <th>16</th>\n",
       "      <td>usfightstore</td>\n",
       "      <td>Q3</td>\n",
       "      <td>119.95</td>\n",
       "    </tr>\n",
       "    <tr>\n",
       "      <th>17</th>\n",
       "      <td>usfightstore</td>\n",
       "      <td>Q4</td>\n",
       "      <td>1119.05</td>\n",
       "    </tr>\n",
       "  </tbody>\n",
       "</table>\n",
       "</div>"
      ],
      "text/plain": [
       "       channel_name quarter sub_total\n",
       "0      ebayusboxing      Q1   5295.61\n",
       "1      ebayusboxing      Q2  10892.92\n",
       "2      ebayusboxing      Q3   8247.29\n",
       "3      ebayusboxing      Q4   4311.38\n",
       "4      usboxing.net      Q1   9431.45\n",
       "5      usboxing.net      Q2  14712.12\n",
       "6      usboxing.net      Q3   8305.48\n",
       "7      usboxing.net      Q4   8591.84\n",
       "8    usboxingamazon      Q1  19913.21\n",
       "9    usboxingamazon      Q2  21611.28\n",
       "10   usboxingamazon      Q3  26971.15\n",
       "11   usboxingamazon      Q4  35402.29\n",
       "12  usboxingwalmart      Q1   1527.70\n",
       "13  usboxingwalmart      Q2   9433.28\n",
       "14  usboxingwalmart      Q3   6826.09\n",
       "15  usboxingwalmart      Q4   6121.58\n",
       "16     usfightstore      Q3    119.95\n",
       "17     usfightstore      Q4   1119.05"
      ]
     },
     "execution_count": 39,
     "metadata": {},
     "output_type": "execute_result"
    }
   ],
   "source": [
    "shop_sales_twenty"
   ]
  },
  {
   "cell_type": "code",
   "execution_count": 40,
   "id": "e91ef227",
   "metadata": {},
   "outputs": [
    {
     "data": {
      "text/plain": [
       "<seaborn.axisgrid.FacetGrid at 0x8ebb5b3eb0>"
      ]
     },
     "execution_count": 40,
     "metadata": {},
     "output_type": "execute_result"
    },
    {
     "data": {
      "image/png": "[encoded data removed]",
      "text/plain": [
       "<Figure size 482x360 with 1 Axes>"
      ]
     },
     "metadata": {
      "needs_background": "light"
     },
     "output_type": "display_data"
    }
   ],
   "source": [
    "sns.relplot(\n",
    "    data=shop_sales_twenty, x=\"quarter\", y=\"sub_total\",hue='channel_name',\n",
    "    kind=\"line\"\n",
    ")"
   ]
  },
  {
   "cell_type": "code",
   "execution_count": 41,
   "id": "aef1d188",
   "metadata": {},
   "outputs": [],
   "source": [
    "shop_sales_half_yearly=twenty_twenty.groupby(['channel_name','half_yearly'])['sub_total'].sum()\n",
    "shop_sales_half_yearly=pd.DataFrame(shop_sales_half_yearly)"
   ]
  },
  {
   "cell_type": "code",
   "execution_count": 43,
   "id": "4c5f7b63",
   "metadata": {},
   "outputs": [],
   "source": [
    "shop_sales_half_yearly.reset_index(inplace=True)"
   ]
  },
  {
   "cell_type": "code",
   "execution_count": 44,
   "id": "1783334c",
   "metadata": {},
   "outputs": [
    {
     "data": {
      "text/html": [
       "<div>\n",
       "<style scoped>\n",
       "    .dataframe tbody tr th:only-of-type {\n",
       "        vertical-align: middle;\n",
       "    }\n",
       "\n",
       "    .dataframe tbody tr th {\n",
       "        vertical-align: top;\n",
       "    }\n",
       "\n",
       "    .dataframe thead th {\n",
       "        text-align: right;\n",
       "    }\n",
       "</style>\n",
       "<table border=\"1\" class=\"dataframe\">\n",
       "  <thead>\n",
       "    <tr style=\"text-align: right;\">\n",
       "      <th></th>\n",
       "      <th>channel_name</th>\n",
       "      <th>half_yearly</th>\n",
       "      <th>sub_total</th>\n",
       "    </tr>\n",
       "  </thead>\n",
       "  <tbody>\n",
       "    <tr>\n",
       "      <th>0</th>\n",
       "      <td>ebayusboxing</td>\n",
       "      <td>1st_half</td>\n",
       "      <td>16188.53</td>\n",
       "    </tr>\n",
       "    <tr>\n",
       "      <th>1</th>\n",
       "      <td>ebayusboxing</td>\n",
       "      <td>2nd_half</td>\n",
       "      <td>12558.67</td>\n",
       "    </tr>\n",
       "    <tr>\n",
       "      <th>2</th>\n",
       "      <td>usboxing.net</td>\n",
       "      <td>1st_half</td>\n",
       "      <td>24143.57</td>\n",
       "    </tr>\n",
       "    <tr>\n",
       "      <th>3</th>\n",
       "      <td>usboxing.net</td>\n",
       "      <td>2nd_half</td>\n",
       "      <td>16897.32</td>\n",
       "    </tr>\n",
       "    <tr>\n",
       "      <th>4</th>\n",
       "      <td>usboxingamazon</td>\n",
       "      <td>1st_half</td>\n",
       "      <td>41524.49</td>\n",
       "    </tr>\n",
       "    <tr>\n",
       "      <th>5</th>\n",
       "      <td>usboxingamazon</td>\n",
       "      <td>2nd_half</td>\n",
       "      <td>62373.44</td>\n",
       "    </tr>\n",
       "    <tr>\n",
       "      <th>6</th>\n",
       "      <td>usboxingwalmart</td>\n",
       "      <td>1st_half</td>\n",
       "      <td>10960.98</td>\n",
       "    </tr>\n",
       "    <tr>\n",
       "      <th>7</th>\n",
       "      <td>usboxingwalmart</td>\n",
       "      <td>2nd_half</td>\n",
       "      <td>12947.67</td>\n",
       "    </tr>\n",
       "    <tr>\n",
       "      <th>8</th>\n",
       "      <td>usfightstore</td>\n",
       "      <td>2nd_half</td>\n",
       "      <td>1239.00</td>\n",
       "    </tr>\n",
       "  </tbody>\n",
       "</table>\n",
       "</div>"
      ],
      "text/plain": [
       "      channel_name half_yearly sub_total\n",
       "0     ebayusboxing    1st_half  16188.53\n",
       "1     ebayusboxing    2nd_half  12558.67\n",
       "2     usboxing.net    1st_half  24143.57\n",
       "3     usboxing.net    2nd_half  16897.32\n",
       "4   usboxingamazon    1st_half  41524.49\n",
       "5   usboxingamazon    2nd_half  62373.44\n",
       "6  usboxingwalmart    1st_half  10960.98\n",
       "7  usboxingwalmart    2nd_half  12947.67\n",
       "8     usfightstore    2nd_half   1239.00"
      ]
     },
     "execution_count": 44,
     "metadata": {},
     "output_type": "execute_result"
    }
   ],
   "source": [
    "shop_sales_half_yearly"
   ]
  },
  {
   "cell_type": "code",
   "execution_count": 45,
   "id": "4103fa73",
   "metadata": {},
   "outputs": [
    {
     "data": {
      "text/plain": [
       "<seaborn.axisgrid.FacetGrid at 0x8ebb696b80>"
      ]
     },
     "execution_count": 45,
     "metadata": {},
     "output_type": "execute_result"
    },
    {
     "data": {
      "image/png": "[encoded data removed]",
      "text/plain": [
       "<Figure size 482x360 with 1 Axes>"
      ]
     },
     "metadata": {
      "needs_background": "light"
     },
     "output_type": "display_data"
    }
   ],
   "source": [
    "sns.relplot(\n",
    "    data=shop_sales_half_yearly, x=\"half_yearly\", y=\"sub_total\",hue='channel_name',\n",
    "    kind=\"line\"\n",
    ")"
   ]
  },
  {
   "cell_type": "code",
   "execution_count": 48,
   "id": "97a6aaaf",
   "metadata": {},
   "outputs": [],
   "source": [
    "twenty_nineteen=df_sales.query('year==2019')"
   ]
  },
  {
   "cell_type": "code",
   "execution_count": 50,
   "id": "1e12664d",
   "metadata": {},
   "outputs": [
    {
     "name": "stderr",
     "output_type": "stream",
     "text": [
      "<ipython-input-50-cda08ed5d5d1>:11: SettingWithCopyWarning: \n",
      "A value is trying to be set on a copy of a slice from a DataFrame.\n",
      "Try using .loc[row_indexer,col_indexer] = value instead\n",
      "\n",
      "See the caveats in the documentation: https://pandas.pydata.org/pandas-docs/stable/user_guide/indexing.html#returning-a-view-versus-a-copy\n",
      "  twenty_nineteen['quarter'] = np.select(conditions_2019_quarter, values_q_2019)\n"
     ]
    }
   ],
   "source": [
    "#2019\n",
    "import seaborn as sns\n",
    "\n",
    "conditions_2019_quarter = [\n",
    "    (twenty_nineteen['month']>=1) & (twenty_nineteen['month']<= 3),\n",
    "    (twenty_nineteen['month']>=4) & (twenty_nineteen['month']<= 6),\n",
    "    (twenty_nineteen['month']>=7) & (twenty_nineteen['month']<= 9),\n",
    "    (twenty_nineteen['month']>=10) & (twenty_nineteen['month']<= 12)]\n",
    "values_q_2019 = ['Q1', 'Q2', 'Q3', 'Q4']\n",
    "import numpy as np\n",
    "twenty_nineteen['quarter'] = np.select(conditions_2019_quarter, values_q_2019)"
   ]
  },
  {
   "cell_type": "code",
   "execution_count": 51,
   "id": "cb14979c",
   "metadata": {},
   "outputs": [
    {
     "name": "stderr",
     "output_type": "stream",
     "text": [
      "<ipython-input-51-f28f8c58e188>:5: SettingWithCopyWarning: \n",
      "A value is trying to be set on a copy of a slice from a DataFrame.\n",
      "Try using .loc[row_indexer,col_indexer] = value instead\n",
      "\n",
      "See the caveats in the documentation: https://pandas.pydata.org/pandas-docs/stable/user_guide/indexing.html#returning-a-view-versus-a-copy\n",
      "  twenty_nineteen['half_yearly'] = np.select(conditions_2019_halfyearly, values_2019_half_yearly)\n"
     ]
    }
   ],
   "source": [
    "conditions_2019_halfyearly = [\n",
    "    (twenty_nineteen['month']>=1) & (twenty_nineteen['month'] <= 6),\n",
    "    (twenty_nineteen['month'] >=7) & (twenty_nineteen['month'] <= 12)]\n",
    "values_2019_half_yearly = ['1st_half', '2nd_half']\n",
    "twenty_nineteen['half_yearly'] = np.select(conditions_2019_halfyearly, values_2019_half_yearly)"
   ]
  },
  {
   "cell_type": "code",
   "execution_count": 52,
   "id": "8f9c84ce",
   "metadata": {},
   "outputs": [],
   "source": [
    "shop_sales_2019=twenty_nineteen.groupby(['channel_name','quarter'])['sub_total'].sum()\n",
    "shop_sales_2019=pd.DataFrame(shop_sales_2019)"
   ]
  },
  {
   "cell_type": "code",
   "execution_count": 53,
   "id": "8d18fb4b",
   "metadata": {},
   "outputs": [],
   "source": [
    "shop_sales_2019.reset_index(inplace=True)"
   ]
  },
  {
   "cell_type": "code",
   "execution_count": 55,
   "id": "ac9455a7",
   "metadata": {},
   "outputs": [
    {
     "data": {
      "text/html": [
       "<div>\n",
       "<style scoped>\n",
       "    .dataframe tbody tr th:only-of-type {\n",
       "        vertical-align: middle;\n",
       "    }\n",
       "\n",
       "    .dataframe tbody tr th {\n",
       "        vertical-align: top;\n",
       "    }\n",
       "\n",
       "    .dataframe thead th {\n",
       "        text-align: right;\n",
       "    }\n",
       "</style>\n",
       "<table border=\"1\" class=\"dataframe\">\n",
       "  <thead>\n",
       "    <tr style=\"text-align: right;\">\n",
       "      <th></th>\n",
       "      <th>channel_name</th>\n",
       "      <th>quarter</th>\n",
       "      <th>sub_total</th>\n",
       "    </tr>\n",
       "  </thead>\n",
       "  <tbody>\n",
       "    <tr>\n",
       "      <th>0</th>\n",
       "      <td>ebayusboxing</td>\n",
       "      <td>Q3</td>\n",
       "      <td>1718.67</td>\n",
       "    </tr>\n",
       "    <tr>\n",
       "      <th>1</th>\n",
       "      <td>ebayusboxing</td>\n",
       "      <td>Q4</td>\n",
       "      <td>3171.31</td>\n",
       "    </tr>\n",
       "    <tr>\n",
       "      <th>2</th>\n",
       "      <td>usboxing.net</td>\n",
       "      <td>Q3</td>\n",
       "      <td>3387.21</td>\n",
       "    </tr>\n",
       "    <tr>\n",
       "      <th>3</th>\n",
       "      <td>usboxing.net</td>\n",
       "      <td>Q4</td>\n",
       "      <td>8014.46</td>\n",
       "    </tr>\n",
       "    <tr>\n",
       "      <th>4</th>\n",
       "      <td>usboxingamazon</td>\n",
       "      <td>Q4</td>\n",
       "      <td>14047.70</td>\n",
       "    </tr>\n",
       "    <tr>\n",
       "      <th>5</th>\n",
       "      <td>usboxingwalmart</td>\n",
       "      <td>Q4</td>\n",
       "      <td>136.95</td>\n",
       "    </tr>\n",
       "  </tbody>\n",
       "</table>\n",
       "</div>"
      ],
      "text/plain": [
       "      channel_name quarter sub_total\n",
       "0     ebayusboxing      Q3   1718.67\n",
       "1     ebayusboxing      Q4   3171.31\n",
       "2     usboxing.net      Q3   3387.21\n",
       "3     usboxing.net      Q4   8014.46\n",
       "4   usboxingamazon      Q4  14047.70\n",
       "5  usboxingwalmart      Q4    136.95"
      ]
     },
     "execution_count": 55,
     "metadata": {},
     "output_type": "execute_result"
    }
   ],
   "source": [
    "shop_sales_2019"
   ]
  },
  {
   "cell_type": "code",
   "execution_count": 54,
   "id": "fe2c352d",
   "metadata": {},
   "outputs": [
    {
     "data": {
      "text/plain": [
       "<seaborn.axisgrid.FacetGrid at 0x8ebb71e400>"
      ]
     },
     "execution_count": 54,
     "metadata": {},
     "output_type": "execute_result"
    },
    {
     "data": {
      "image/png": "[encoded data removed]",
      "text/plain": [
       "<Figure size 482x360 with 1 Axes>"
      ]
     },
     "metadata": {
      "needs_background": "light"
     },
     "output_type": "display_data"
    }
   ],
   "source": [
    "sns.relplot(\n",
    "    data=shop_sales_2019, x=\"quarter\", y=\"sub_total\",hue='channel_name',\n",
    "    kind=\"line\"\n",
    ")"
   ]
  },
  {
   "cell_type": "code",
   "execution_count": 57,
   "id": "a5371cc0",
   "metadata": {},
   "outputs": [
    {
     "data": {
      "text/plain": [
       "<seaborn.axisgrid.FacetGrid at 0x8ebb71ec70>"
      ]
     },
     "execution_count": 57,
     "metadata": {},
     "output_type": "execute_result"
    },
    {
     "data": {
      "image/png": "[encoded data removed]",
      "text/plain": [
       "<Figure size 482x360 with 1 Axes>"
      ]
     },
     "metadata": {
      "needs_background": "light"
     },
     "output_type": "display_data"
    }
   ],
   "source": [
    "sns.catplot(x=\"quarter\", y=\"sub_total\",hue='channel_name',\n",
    "    kind=\"bar\",data=shop_sales_2019\n",
    ")"
   ]
  },
  {
   "cell_type": "code",
   "execution_count": 58,
   "id": "cfaa0b51",
   "metadata": {},
   "outputs": [],
   "source": [
    "sales_2019_half=twenty_one.groupby(['channel_name','half_yearly'])['sub_total'].sum()\n",
    "sales_2019_half=pd.DataFrame(sales_2019_half)"
   ]
  },
  {
   "cell_type": "code",
   "execution_count": 60,
   "id": "8b81f70f",
   "metadata": {},
   "outputs": [],
   "source": [
    "sales_2019_half.reset_index(inplace=True)"
   ]
  },
  {
   "cell_type": "code",
   "execution_count": 61,
   "id": "1cd4db69",
   "metadata": {},
   "outputs": [
    {
     "data": {
      "text/plain": [
       "<seaborn.axisgrid.FacetGrid at 0x8ebb75f970>"
      ]
     },
     "execution_count": 61,
     "metadata": {},
     "output_type": "execute_result"
    },
    {
     "data": {
      "image/png": "[encoded data removed]",
      "text/plain": [
       "<Figure size 482x360 with 1 Axes>"
      ]
     },
     "metadata": {
      "needs_background": "light"
     },
     "output_type": "display_data"
    }
   ],
   "source": [
    "sns.relplot(\n",
    "    data=sales_2019_half, x=\"half_yearly\", y=\"sub_total\",hue='channel_name',\n",
    "    kind=\"line\"\n",
    ")"
   ]
  },
  {
   "cell_type": "code",
   "execution_count": 62,
   "id": "72aac150",
   "metadata": {},
   "outputs": [
    {
     "data": {
      "text/plain": [
       "<seaborn.axisgrid.FacetGrid at 0x8ebb6d6910>"
      ]
     },
     "execution_count": 62,
     "metadata": {},
     "output_type": "execute_result"
    },
    {
     "data": {
      "image/png": "[encoded data removed]",
      "text/plain": [
       "<Figure size 482x360 with 1 Axes>"
      ]
     },
     "metadata": {
      "needs_background": "light"
     },
     "output_type": "display_data"
    }
   ],
   "source": [
    "sns.catplot(x=\"half_yearly\", y=\"sub_total\",hue='channel_name',\n",
    "    kind=\"bar\",data=sales_2019_half\n",
    ")"
   ]
  },
  {
   "cell_type": "code",
   "execution_count": null,
   "id": "a028cd71",
   "metadata": {},
   "outputs": [],
   "source": []
  }
 ],
 "metadata": {
  "kernelspec": {
   "display_name": "Python 3",
   "language": "python",
   "name": "python3"
  },
  "language_info": {
   "codemirror_mode": {
    "name": "ipython",
    "version": 3
   },
   "file_extension": ".py",
   "mimetype": "text/x-python",
   "name": "python",
   "nbconvert_exporter": "python",
   "pygments_lexer": "ipython3",
   "version": "3.8.10"
  }
 },
 "nbformat": 4,
 "nbformat_minor": 5
}
